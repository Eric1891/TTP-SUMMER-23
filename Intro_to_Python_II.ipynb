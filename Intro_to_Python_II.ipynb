{
  "nbformat": 4,
  "nbformat_minor": 0,
  "metadata": {
    "colab": {
      "provenance": [],
      "authorship_tag": "ABX9TyMn5b1mdlSa/QKpsM6MIEMM",
      "include_colab_link": true
    },
    "kernelspec": {
      "name": "python3",
      "display_name": "Python 3"
    },
    "language_info": {
      "name": "python"
    }
  },
  "cells": [
    {
      "cell_type": "markdown",
      "metadata": {
        "id": "view-in-github",
        "colab_type": "text"
      },
      "source": [
        "<a href=\"https://colab.research.google.com/github/Eric1891/TTP-SUMMER-23/blob/main/Intro_to_Python_II.ipynb\" target=\"_parent\"><img src=\"https://colab.research.google.com/assets/colab-badge.svg\" alt=\"Open In Colab\"/></a>"
      ]
    },
    {
      "cell_type": "markdown",
      "source": [
        "#Operators"
      ],
      "metadata": {
        "id": "nTK-BX8MGYkF"
      }
    },
    {
      "cell_type": "markdown",
      "source": [
        "##Boolean Oprator"
      ],
      "metadata": {
        "id": "kech4u-9GaFq"
      }
    },
    {
      "cell_type": "code",
      "source": [
        "is_day =True\n",
        "is_night=False\n",
        "\n",
        "print(is_day)"
      ],
      "metadata": {
        "id": "wbrsAVNMGaIt",
        "colab": {
          "base_uri": "https://localhost:8080/"
        },
        "outputId": "619da4f8-53de-403f-b984-0f3dda9778de"
      },
      "execution_count": 1,
      "outputs": [
        {
          "output_type": "stream",
          "name": "stdout",
          "text": [
            "True\n"
          ]
        }
      ]
    },
    {
      "cell_type": "markdown",
      "source": [
        "## Comparison Operators"
      ],
      "metadata": {
        "id": "U7b4OPtRGaLj"
      }
    },
    {
      "cell_type": "code",
      "source": [
        "x,  y=9, 25"
      ],
      "metadata": {
        "id": "wxw216QSGaOa"
      },
      "execution_count": 2,
      "outputs": []
    },
    {
      "cell_type": "code",
      "source": [
        "print(x==y)  #is x equal to y"
      ],
      "metadata": {
        "id": "DD-7zcbcGaRT",
        "colab": {
          "base_uri": "https://localhost:8080/"
        },
        "outputId": "6098830b-5f75-47c6-8620-8d862e95de5d"
      },
      "execution_count": 3,
      "outputs": [
        {
          "output_type": "stream",
          "name": "stdout",
          "text": [
            "False\n"
          ]
        }
      ]
    },
    {
      "cell_type": "code",
      "source": [
        "print(x != y)"
      ],
      "metadata": {
        "id": "HC1BgzItGaT4",
        "colab": {
          "base_uri": "https://localhost:8080/"
        },
        "outputId": "13923a68-e1ca-41c5-909d-d3d592e09bf6"
      },
      "execution_count": 4,
      "outputs": [
        {
          "output_type": "stream",
          "name": "stdout",
          "text": [
            "True\n"
          ]
        }
      ]
    },
    {
      "cell_type": "code",
      "source": [
        "print(x<y)\n",
        "print(x>y)\n",
        "print(x>=y)\n",
        "print(x<=y)"
      ],
      "metadata": {
        "id": "n3ALyXT2GaWQ",
        "colab": {
          "base_uri": "https://localhost:8080/"
        },
        "outputId": "fafba809-d7f2-47d9-aaa8-6b9bf1d1d18e"
      },
      "execution_count": 5,
      "outputs": [
        {
          "output_type": "stream",
          "name": "stdout",
          "text": [
            "True\n",
            "False\n",
            "False\n",
            "True\n"
          ]
        }
      ]
    },
    {
      "cell_type": "markdown",
      "source": [
        "## Logical Operator"
      ],
      "metadata": {
        "id": "8RjQ-pAdGaYU"
      }
    },
    {
      "cell_type": "code",
      "source": [
        "x"
      ],
      "metadata": {
        "id": "7Mxs9RT3Gaaf",
        "colab": {
          "base_uri": "https://localhost:8080/"
        },
        "outputId": "93709f01-e41f-4886-d7c1-f19e0b773d60"
      },
      "execution_count": 6,
      "outputs": [
        {
          "output_type": "execute_result",
          "data": {
            "text/plain": [
              "9"
            ]
          },
          "metadata": {},
          "execution_count": 6
        }
      ]
    },
    {
      "cell_type": "code",
      "source": [
        "y"
      ],
      "metadata": {
        "id": "goopDUVzGac2",
        "colab": {
          "base_uri": "https://localhost:8080/"
        },
        "outputId": "ffe6a1ab-0874-49ec-dfe5-7e98f798b38c"
      },
      "execution_count": 7,
      "outputs": [
        {
          "output_type": "execute_result",
          "data": {
            "text/plain": [
              "25"
            ]
          },
          "metadata": {},
          "execution_count": 7
        }
      ]
    },
    {
      "cell_type": "markdown",
      "source": [
        "### The and  Operator"
      ],
      "metadata": {
        "id": "Vpn2hErlxk6b"
      }
    },
    {
      "cell_type": "code",
      "source": [
        "print(x>5 and y<30)\n",
        "print(x>10 and y<30)"
      ],
      "metadata": {
        "id": "QUt1srFPGae0",
        "colab": {
          "base_uri": "https://localhost:8080/"
        },
        "outputId": "3007081c-e299-4184-c8fa-25887b44dcc4"
      },
      "execution_count": 8,
      "outputs": [
        {
          "output_type": "stream",
          "name": "stdout",
          "text": [
            "True\n",
            "False\n"
          ]
        }
      ]
    },
    {
      "cell_type": "markdown",
      "source": [
        "### The Or  Operator"
      ],
      "metadata": {
        "id": "066wRJgixtj6"
      }
    },
    {
      "cell_type": "code",
      "source": [
        "print(x>5 or y<30)\n",
        "print(x>10 or y<30)"
      ],
      "metadata": {
        "id": "pj8oXl3_Gahh",
        "colab": {
          "base_uri": "https://localhost:8080/"
        },
        "outputId": "7f06ff0f-5f13-4066-8f94-3eecc5b0f2a3"
      },
      "execution_count": 9,
      "outputs": [
        {
          "output_type": "stream",
          "name": "stdout",
          "text": [
            "True\n",
            "True\n"
          ]
        }
      ]
    },
    {
      "cell_type": "markdown",
      "source": [
        "#The Not"
      ],
      "metadata": {
        "id": "1D7K37twGakQ"
      }
    },
    {
      "cell_type": "code",
      "source": [
        "print(not (x>5))\n",
        "print(not (y>30))"
      ],
      "metadata": {
        "id": "0mnAGvluGanQ",
        "colab": {
          "base_uri": "https://localhost:8080/"
        },
        "outputId": "279693ba-eaa6-4c16-8d30-12be19720d21"
      },
      "execution_count": 10,
      "outputs": [
        {
          "output_type": "stream",
          "name": "stdout",
          "text": [
            "False\n",
            "True\n"
          ]
        }
      ]
    },
    {
      "cell_type": "code",
      "source": [
        "result = ((True and False)  or (True or False)  )\n",
        "print(f'The expresssion is {result}')"
      ],
      "metadata": {
        "id": "JZqU5rYHGapx",
        "colab": {
          "base_uri": "https://localhost:8080/"
        },
        "outputId": "45bf75ef-27fc-4bb0-8369-da05ecf30d58"
      },
      "execution_count": 56,
      "outputs": [
        {
          "output_type": "stream",
          "name": "stdout",
          "text": [
            "The expresssion is True\n"
          ]
        }
      ]
    },
    {
      "cell_type": "code",
      "source": [
        "result =  not ((3>=3)and (False or (2<5)))\n",
        "print(f'The expression is {result}')"
      ],
      "metadata": {
        "id": "6d3BRgm4Gas1",
        "colab": {
          "base_uri": "https://localhost:8080/"
        },
        "outputId": "a75269b8-2185-46d6-96de-42e8f7514bb2"
      },
      "execution_count": 57,
      "outputs": [
        {
          "output_type": "stream",
          "name": "stdout",
          "text": [
            "The expression is False\n"
          ]
        }
      ]
    },
    {
      "cell_type": "markdown",
      "source": [
        "##Identity Operator"
      ],
      "metadata": {
        "id": "1IKNu7LgGawG"
      }
    },
    {
      "cell_type": "code",
      "source": [
        "print (\"cat\" is \"cat\")"
      ],
      "metadata": {
        "colab": {
          "base_uri": "https://localhost:8080/"
        },
        "id": "js4sxo8uyMOF",
        "outputId": "a9e76fb7-9a80-4d0b-fdcc-967b93a36f7e"
      },
      "execution_count": 11,
      "outputs": [
        {
          "output_type": "stream",
          "name": "stdout",
          "text": [
            "True\n"
          ]
        },
        {
          "output_type": "stream",
          "name": "stderr",
          "text": [
            "<>:1: SyntaxWarning: \"is\" with a literal. Did you mean \"==\"?\n",
            "<>:1: SyntaxWarning: \"is\" with a literal. Did you mean \"==\"?\n",
            "<ipython-input-11-d79ccb58dde2>:1: SyntaxWarning: \"is\" with a literal. Did you mean \"==\"?\n",
            "  print (\"cat\" is \"cat\")\n"
          ]
        }
      ]
    },
    {
      "cell_type": "code",
      "source": [
        "print(\"cat\" == \"cat\")"
      ],
      "metadata": {
        "colab": {
          "base_uri": "https://localhost:8080/"
        },
        "id": "H1TZjadmyMRR",
        "outputId": "6e4d1e31-a583-4082-e358-25a1ffafb1b0"
      },
      "execution_count": 12,
      "outputs": [
        {
          "output_type": "stream",
          "name": "stdout",
          "text": [
            "True\n"
          ]
        }
      ]
    },
    {
      "cell_type": "code",
      "source": [
        "print (\"cat\" is \"dog\")"
      ],
      "metadata": {
        "colab": {
          "base_uri": "https://localhost:8080/"
        },
        "id": "qyhS3ULhyMUO",
        "outputId": "370a2760-b448-43b7-e73d-e7b23243f6ae"
      },
      "execution_count": 13,
      "outputs": [
        {
          "output_type": "stream",
          "name": "stdout",
          "text": [
            "False\n"
          ]
        },
        {
          "output_type": "stream",
          "name": "stderr",
          "text": [
            "<>:1: SyntaxWarning: \"is\" with a literal. Did you mean \"==\"?\n",
            "<>:1: SyntaxWarning: \"is\" with a literal. Did you mean \"==\"?\n",
            "<ipython-input-13-9490ed265921>:1: SyntaxWarning: \"is\" with a literal. Did you mean \"==\"?\n",
            "  print (\"cat\" is \"dog\")\n"
          ]
        }
      ]
    },
    {
      "cell_type": "code",
      "source": [],
      "metadata": {
        "id": "yPg1G9d-yMYS"
      },
      "execution_count": null,
      "outputs": []
    },
    {
      "cell_type": "code",
      "source": [
        "print(\"cat\" is not \"cat\")"
      ],
      "metadata": {
        "colab": {
          "base_uri": "https://localhost:8080/"
        },
        "id": "D3RziAoayhT8",
        "outputId": "650dd6d3-e26f-4994-86a6-a295b6ec1888"
      },
      "execution_count": 14,
      "outputs": [
        {
          "output_type": "stream",
          "name": "stdout",
          "text": [
            "False\n"
          ]
        },
        {
          "output_type": "stream",
          "name": "stderr",
          "text": [
            "<>:1: SyntaxWarning: \"is not\" with a literal. Did you mean \"!=\"?\n",
            "<>:1: SyntaxWarning: \"is not\" with a literal. Did you mean \"!=\"?\n",
            "<ipython-input-14-3f07290bb834>:1: SyntaxWarning: \"is not\" with a literal. Did you mean \"!=\"?\n",
            "  print(\"cat\" is not \"cat\")\n"
          ]
        }
      ]
    },
    {
      "cell_type": "code",
      "source": [
        "print(\"cat\" is not \"dog\")"
      ],
      "metadata": {
        "colab": {
          "base_uri": "https://localhost:8080/"
        },
        "id": "pfSj6Mamyl79",
        "outputId": "d47ca565-aa2a-4542-ee7e-f3944b328217"
      },
      "execution_count": 15,
      "outputs": [
        {
          "output_type": "stream",
          "name": "stdout",
          "text": [
            "True\n"
          ]
        },
        {
          "output_type": "stream",
          "name": "stderr",
          "text": [
            "<>:1: SyntaxWarning: \"is not\" with a literal. Did you mean \"!=\"?\n",
            "<>:1: SyntaxWarning: \"is not\" with a literal. Did you mean \"!=\"?\n",
            "<ipython-input-15-5594a05aa962>:1: SyntaxWarning: \"is not\" with a literal. Did you mean \"!=\"?\n",
            "  print(\"cat\" is not \"dog\")\n"
          ]
        }
      ]
    },
    {
      "cell_type": "code",
      "source": [
        "fruit =\"banana\"\n",
        "print('na' in fruit)\n",
        "print('na'not in fruit)"
      ],
      "metadata": {
        "colab": {
          "base_uri": "https://localhost:8080/"
        },
        "id": "HozRmFrhyplT",
        "outputId": "27b856f3-738c-46e2-a089-6ae87934b5e1"
      },
      "execution_count": 16,
      "outputs": [
        {
          "output_type": "stream",
          "name": "stdout",
          "text": [
            "True\n",
            "False\n"
          ]
        }
      ]
    },
    {
      "cell_type": "markdown",
      "source": [
        "#Collection Data Types"
      ],
      "metadata": {
        "id": "lxTjHbBzy2BZ"
      }
    },
    {
      "cell_type": "markdown",
      "source": [
        "\n",
        "## Lists"
      ],
      "metadata": {
        "id": "NouxDDkvy519"
      }
    },
    {
      "cell_type": "code",
      "source": [
        "numbers =[3,7,5,4,7,5,6,3,3,3,3,3]\n",
        "print(numbers)\n",
        "print(numbers[1])\n",
        "print(numbers[-1])"
      ],
      "metadata": {
        "colab": {
          "base_uri": "https://localhost:8080/"
        },
        "id": "Xrio1fFUy561",
        "outputId": "62e20966-2aee-4f0e-d011-38ed19e4fde5"
      },
      "execution_count": 17,
      "outputs": [
        {
          "output_type": "stream",
          "name": "stdout",
          "text": [
            "[3, 7, 5, 4, 7, 5, 6, 3, 3, 3, 3, 3]\n",
            "7\n",
            "3\n"
          ]
        }
      ]
    },
    {
      "cell_type": "code",
      "source": [
        "names = [\"Alice\", \"Bob\", \"Carol\", \"Dan\"]\n",
        "print(names[0])\n",
        "print(names[2])"
      ],
      "metadata": {
        "colab": {
          "base_uri": "https://localhost:8080/"
        },
        "id": "3eV1Mp-py599",
        "outputId": "0bddf609-b550-46b9-e0fe-fb86437316d0"
      },
      "execution_count": 18,
      "outputs": [
        {
          "output_type": "stream",
          "name": "stdout",
          "text": [
            "Alice\n",
            "Carol\n"
          ]
        }
      ]
    },
    {
      "cell_type": "code",
      "source": [
        "print(names[0][1])"
      ],
      "metadata": {
        "colab": {
          "base_uri": "https://localhost:8080/"
        },
        "id": "8I3LT1ATy6Ar",
        "outputId": "b5699f59-d922-4800-b7d6-901381aa0572"
      },
      "execution_count": 19,
      "outputs": [
        {
          "output_type": "stream",
          "name": "stdout",
          "text": [
            "l\n"
          ]
        }
      ]
    },
    {
      "cell_type": "code",
      "source": [
        "print(names[-1])\n",
        "print(names[-3])"
      ],
      "metadata": {
        "colab": {
          "base_uri": "https://localhost:8080/"
        },
        "id": "mxkpWC8Hy6D4",
        "outputId": "2c188376-a683-41c6-b530-805682612f77"
      },
      "execution_count": 21,
      "outputs": [
        {
          "output_type": "stream",
          "name": "stdout",
          "text": [
            "Dan\n",
            "Bob\n"
          ]
        }
      ]
    },
    {
      "cell_type": "code",
      "source": [
        "print(names[1:3])"
      ],
      "metadata": {
        "colab": {
          "base_uri": "https://localhost:8080/"
        },
        "id": "BDgOgoYry6Iq",
        "outputId": "445899f3-b027-4d9e-d24c-317eb52c51a8"
      },
      "execution_count": 22,
      "outputs": [
        {
          "output_type": "stream",
          "name": "stdout",
          "text": [
            "['Bob', 'Carol']\n"
          ]
        }
      ]
    },
    {
      "cell_type": "code",
      "source": [
        "print(names[0:4])"
      ],
      "metadata": {
        "colab": {
          "base_uri": "https://localhost:8080/"
        },
        "id": "jJB-JV9ay6Lw",
        "outputId": "00cbca1b-1310-4349-abd4-7f572ff5b664"
      },
      "execution_count": 23,
      "outputs": [
        {
          "output_type": "stream",
          "name": "stdout",
          "text": [
            "['Alice', 'Bob', 'Carol', 'Dan']\n"
          ]
        }
      ]
    },
    {
      "cell_type": "code",
      "source": [
        "print(names[0:-1])"
      ],
      "metadata": {
        "colab": {
          "base_uri": "https://localhost:8080/"
        },
        "id": "uGeIyb0sy6ON",
        "outputId": "b3f48000-2a41-4d0f-a3cd-969a34c51010"
      },
      "execution_count": 24,
      "outputs": [
        {
          "output_type": "stream",
          "name": "stdout",
          "text": [
            "['Alice', 'Bob', 'Carol']\n"
          ]
        }
      ]
    },
    {
      "cell_type": "code",
      "source": [
        "print(names[0:])"
      ],
      "metadata": {
        "colab": {
          "base_uri": "https://localhost:8080/"
        },
        "id": "dDrBAzJu0Bx1",
        "outputId": "8f1176d0-c73f-4a97-8b52-1af80e716a14"
      },
      "execution_count": 25,
      "outputs": [
        {
          "output_type": "stream",
          "name": "stdout",
          "text": [
            "['Alice', 'Bob', 'Carol', 'Dan']\n"
          ]
        }
      ]
    },
    {
      "cell_type": "code",
      "source": [
        "string =\"Olivia\""
      ],
      "metadata": {
        "id": "QgKNKgbj0EqG"
      },
      "execution_count": 26,
      "outputs": []
    },
    {
      "cell_type": "code",
      "source": [
        "string[2]"
      ],
      "metadata": {
        "colab": {
          "base_uri": "https://localhost:8080/",
          "height": 35
        },
        "id": "gHQA5vFL0Tn9",
        "outputId": "c1d3fe7f-1245-4116-c787-6d44cf4a3ff3"
      },
      "execution_count": 27,
      "outputs": [
        {
          "output_type": "execute_result",
          "data": {
            "text/plain": [
              "'i'"
            ],
            "application/vnd.google.colaboratory.intrinsic+json": {
              "type": "string"
            }
          },
          "metadata": {},
          "execution_count": 27
        }
      ]
    },
    {
      "cell_type": "code",
      "source": [
        "#  string[2] = 5"
      ],
      "metadata": {
        "id": "RhIi4_tS0Trp"
      },
      "execution_count": 29,
      "outputs": []
    },
    {
      "cell_type": "code",
      "source": [
        "names  =['Alice', 'Bob', 'Carol', 'Dan']\n",
        "print(names)\n",
        "names[1]='Bobby'\n",
        "print (names)\n"
      ],
      "metadata": {
        "colab": {
          "base_uri": "https://localhost:8080/"
        },
        "id": "11VNRZXv0Tv1",
        "outputId": "65ab4c0e-3c02-4967-aff5-4c81797cb3da"
      },
      "execution_count": 30,
      "outputs": [
        {
          "output_type": "stream",
          "name": "stdout",
          "text": [
            "['Alice', 'Bob', 'Carol', 'Dan']\n",
            "['Alice', 'Bobby', 'Carol', 'Dan']\n"
          ]
        }
      ]
    },
    {
      "cell_type": "code",
      "source": [
        "items = [input('Enter item1: '),input('Enter item2: '),input('Enter item3: '),input('Enter item4: '),input('Enter item5: '),input('Enter item6: '),input('Enter item7: '),input('Enter item8: '),\n",
        "input('Enter item9: '),input('Enter item10: ')]\n",
        "print(\"List: \",items)"
      ],
      "metadata": {
        "colab": {
          "base_uri": "https://localhost:8080/"
        },
        "id": "z7rEf_uT0UAw",
        "outputId": "353a7138-2730-4089-efde-cd958452a1aa"
      },
      "execution_count": 41,
      "outputs": [
        {
          "output_type": "stream",
          "name": "stdout",
          "text": [
            "Enter item1: 2\n",
            "Enter item2: 2\n",
            "Enter item3: 2\n",
            "Enter item4: 2\n",
            "Enter item5: 2\n",
            "Enter item6: 2\n",
            "Enter item7: 2\n",
            "Enter item8: 2\n",
            "Enter item9: 2\n",
            "Enter item10: 2\n",
            "List:  ['2', '2', '2', '2', '2', '2', '2', '2', '2', '2']\n"
          ]
        }
      ]
    },
    {
      "cell_type": "code",
      "source": [
        "my_list = input('Enter elements of a list separated by space ')\n",
        "lists=my_list.split()\n",
        "print('list: ' ,lists)\n"
      ],
      "metadata": {
        "colab": {
          "base_uri": "https://localhost:8080/"
        },
        "id": "cUpLE7sq0UFI",
        "outputId": "6fc99aa5-1c8a-436d-dee5-50d4a55bfcdc"
      },
      "execution_count": 47,
      "outputs": [
        {
          "output_type": "stream",
          "name": "stdout",
          "text": [
            "Enter elements of a list separated by space 4,4,4,4,4,4,4,4\n",
            "list:  ['4,4,4,4,4,4,4,4']\n"
          ]
        }
      ]
    },
    {
      "cell_type": "code",
      "source": [
        "print('The list is:'  ,[input(f' enter items{i+1}:  ')for i in range(10)])"
      ],
      "metadata": {
        "colab": {
          "base_uri": "https://localhost:8080/"
        },
        "id": "8zRLVosQ0ULO",
        "outputId": "b042c369-29eb-498f-ba0a-2c4eb7667809"
      },
      "execution_count": 55,
      "outputs": [
        {
          "output_type": "stream",
          "name": "stdout",
          "text": [
            " enter items1:  3\n",
            " enter items2:  3\n",
            " enter items3:  3\n",
            " enter items4:  3\n",
            " enter items5:  3\n",
            " enter items6:  3\n",
            " enter items7:  3\n",
            " enter items8:  3\n",
            " enter items9:  3\n",
            " enter items10:  3\n",
            "The list is: ['3', '3', '3', '3', '3', '3', '3', '3', '3', '3']\n"
          ]
        }
      ]
    },
    {
      "cell_type": "code",
      "source": [
        "3"
      ],
      "metadata": {
        "id": "Uz-cawrL0UOx"
      },
      "execution_count": null,
      "outputs": []
    },
    {
      "cell_type": "code",
      "source": [],
      "metadata": {
        "id": "gB-Kr0590UXy"
      },
      "execution_count": null,
      "outputs": []
    },
    {
      "cell_type": "code",
      "source": [],
      "metadata": {
        "id": "nyTNqIFd0Ubx"
      },
      "execution_count": null,
      "outputs": []
    },
    {
      "cell_type": "code",
      "source": [],
      "metadata": {
        "id": "ZCIjHZBz0Uf3"
      },
      "execution_count": null,
      "outputs": []
    },
    {
      "cell_type": "code",
      "source": [],
      "metadata": {
        "id": "UkqihCcN0UkC"
      },
      "execution_count": null,
      "outputs": []
    },
    {
      "cell_type": "code",
      "source": [],
      "metadata": {
        "id": "z5JAFbKb0Ung"
      },
      "execution_count": null,
      "outputs": []
    },
    {
      "cell_type": "code",
      "source": [],
      "metadata": {
        "id": "D9sXYlQ20UtT"
      },
      "execution_count": null,
      "outputs": []
    },
    {
      "cell_type": "code",
      "source": [],
      "metadata": {
        "id": "WXKljEeR0UyJ"
      },
      "execution_count": null,
      "outputs": []
    }
  ]
}