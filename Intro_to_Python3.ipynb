{
  "nbformat": 4,
  "nbformat_minor": 0,
  "metadata": {
    "colab": {
      "provenance": [],
      "authorship_tag": "ABX9TyNNxYAnljguQiS9t8md3+9Y",
      "include_colab_link": true
    },
    "kernelspec": {
      "name": "python3",
      "display_name": "Python 3"
    },
    "language_info": {
      "name": "python"
    }
  },
  "cells": [
    {
      "cell_type": "markdown",
      "metadata": {
        "id": "view-in-github",
        "colab_type": "text"
      },
      "source": [
        "<a href=\"https://colab.research.google.com/github/Eric1891/TTP-SUMMER-23/blob/main/Intro_to_Python3.ipynb\" target=\"_parent\"><img src=\"https://colab.research.google.com/assets/colab-badge.svg\" alt=\"Open In Colab\"/></a>"
      ]
    },
    {
      "cell_type": "markdown",
      "source": [
        "#Conditonals"
      ],
      "metadata": {
        "id": "L9Kbl16Nn2d7"
      }
    },
    {
      "cell_type": "markdown",
      "source": [
        "##The  if statement"
      ],
      "metadata": {
        "id": "CJMVcHefn7hE"
      }
    },
    {
      "cell_type": "code",
      "source": [
        "night = True"
      ],
      "metadata": {
        "id": "l_zSVfvrn7ku"
      },
      "execution_count": 7,
      "outputs": []
    },
    {
      "cell_type": "code",
      "source": [
        "type(night)\n"
      ],
      "metadata": {
        "colab": {
          "base_uri": "https://localhost:8080/"
        },
        "id": "fOmX3n25n7ns",
        "outputId": "41772c32-476e-4d6e-fe32-b41ca9f97743"
      },
      "execution_count": 8,
      "outputs": [
        {
          "output_type": "execute_result",
          "data": {
            "text/plain": [
              "bool"
            ]
          },
          "metadata": {},
          "execution_count": 8
        }
      ]
    },
    {
      "cell_type": "code",
      "source": [
        "#if somthing ->then do something... if not ->then do something else."
      ],
      "metadata": {
        "id": "lHL5rSZ73i9W"
      },
      "execution_count": null,
      "outputs": []
    },
    {
      "cell_type": "code",
      "source": [
        "if night: #==True:\n",
        "  print(\"Its' ninght. Sleeping\")\n",
        "else:\n",
        "    print(\"It's day. Being active.\")\n",
        "\n",
        "print(\"Out of the if statement\")"
      ],
      "metadata": {
        "colab": {
          "base_uri": "https://localhost:8080/"
        },
        "id": "uHBkCoiSn7qu",
        "outputId": "ebc0138f-4b61-46d9-bd51-4883bc2df72c"
      },
      "execution_count": 9,
      "outputs": [
        {
          "output_type": "stream",
          "name": "stdout",
          "text": [
            "Its' ninght. Sleeping\n"
          ]
        }
      ]
    },
    {
      "cell_type": "code",
      "source": [
        "night = False"
      ],
      "metadata": {
        "id": "BJ_5lSBSn7tm"
      },
      "execution_count": 16,
      "outputs": []
    },
    {
      "cell_type": "code",
      "source": [
        "if night:\n",
        "  print(\"Its' ninght. Sleeping\")\n",
        "else:\n",
        "    print(\"It's day. Being active.\")\n",
        "\n",
        "print(\"Out of the if statement\")"
      ],
      "metadata": {
        "colab": {
          "base_uri": "https://localhost:8080/"
        },
        "id": "_Ps3LVVhn7wz",
        "outputId": "cb528bfc-9783-4793-9b59-f21be6748a4a"
      },
      "execution_count": 15,
      "outputs": [
        {
          "output_type": "stream",
          "name": "stdout",
          "text": [
            "It's day. Being active.\n",
            "Out of the if statement\n"
          ]
        }
      ]
    },
    {
      "cell_type": "code",
      "source": [
        "a, b, c =100, 50, 20\n",
        "if  a > b and b > c:\n",
        "  print(f\"{a} greater than {c}\")"
      ],
      "metadata": {
        "colab": {
          "base_uri": "https://localhost:8080/"
        },
        "id": "KtfdNTZBn7zB",
        "outputId": "eb5e50fa-b0bc-4fda-e25e-bfaae55cc95d"
      },
      "execution_count": 17,
      "outputs": [
        {
          "output_type": "stream",
          "name": "stdout",
          "text": [
            "100 greater than 20\n"
          ]
        }
      ]
    },
    {
      "cell_type": "code",
      "source": [
        "data = input (\"do you havt the key?(yes/no)\")\n",
        "if data.lower( )== \"yes\":\n",
        "  print(\"string the car\")\n",
        "else:\n",
        "    print(\"car cann't start without the keys\")"
      ],
      "metadata": {
        "colab": {
          "base_uri": "https://localhost:8080/"
        },
        "id": "MkHHkWzhzkJR",
        "outputId": "92f07004-4a6f-4388-df49-e8af1b101752"
      },
      "execution_count": 32,
      "outputs": [
        {
          "output_type": "stream",
          "name": "stdout",
          "text": [
            "do you havt the key?(yes/no)no\n",
            "car cann't start without the keys\n"
          ]
        }
      ]
    },
    {
      "cell_type": "code",
      "source": [
        "data = input (\"Please enter tge current hour(0-23)\")\n",
        "hour =int(data)\n",
        "if hour <12:\n",
        "  print(f\"It's {hour} am\")\n",
        "else:\n",
        "  print(f\"It's {hour-12} pm\")\n"
      ],
      "metadata": {
        "colab": {
          "base_uri": "https://localhost:8080/"
        },
        "id": "OiGNHAF6zkMw",
        "outputId": "693666c7-b9e0-45a6-d1f6-e97e578d9e16"
      },
      "execution_count": 33,
      "outputs": [
        {
          "output_type": "stream",
          "name": "stdout",
          "text": [
            "Please enter tge current hour(0-23)45\n",
            "It's 33 pm\n"
          ]
        }
      ]
    },
    {
      "cell_type": "markdown",
      "source": [
        "###Nested if Statements"
      ],
      "metadata": {
        "id": "_ERr0N33zkVE"
      }
    },
    {
      "cell_type": "code",
      "source": [
        "pet_Store = ['cat','dog','rabbot']\n",
        "has_cat_food =True\n",
        "\n",
        "if 'cat'in pet_Store:\n",
        "  print(\"Alright! they have  a cat for me\")\n",
        "\n",
        "  if has_cat_food:\n",
        "   print('Buying cat and cat food')\n",
        "\n",
        "  else:\n",
        "   print('Buying the cat only')\n",
        "\n",
        "else:\n",
        "  print('Ask pet store to get cat')\n"
      ],
      "metadata": {
        "colab": {
          "base_uri": "https://localhost:8080/"
        },
        "id": "ARgBKOeXzkYx",
        "outputId": "015fc21e-c141-4e50-f438-8344f9bbe203"
      },
      "execution_count": 2,
      "outputs": [
        {
          "output_type": "stream",
          "name": "stdout",
          "text": [
            "Alright! they have  a cat for me\n",
            "Buying cat and cat food\n"
          ]
        }
      ]
    },
    {
      "cell_type": "markdown",
      "source": [
        "####More on indentation!"
      ],
      "metadata": {
        "id": "12wHBN5gzkel"
      }
    },
    {
      "cell_type": "code",
      "source": [
        "if True:\n",
        "   print(\"this is part of ythe if statement\")\n",
        "print(\"this if statement has finished\")\n",
        ""
      ],
      "metadata": {
        "colab": {
          "base_uri": "https://localhost:8080/"
        },
        "id": "u-AX3IqOzkhk",
        "outputId": "492c8b29-0619-478a-a3c9-32387b6d8883"
      },
      "execution_count": 4,
      "outputs": [
        {
          "output_type": "stream",
          "name": "stdout",
          "text": [
            "this is part of ythe if statement\n",
            "this if statement has finished\n"
          ]
        }
      ]
    },
    {
      "cell_type": "code",
      "source": [
        "if  5>3:\n",
        "  print(\"this is part of expression 1\")\n",
        "\n",
        "  if 10>5:\n",
        "    print(\"this is a part of expression 2 \")\n",
        "\n",
        "  print(\"this is also  part of expression 1\")\n",
        "\n",
        "print(\"this is not part of any if statement\")"
      ],
      "metadata": {
        "colab": {
          "base_uri": "https://localhost:8080/"
        },
        "id": "Pv_VCx70zkkr",
        "outputId": "969f6168-d91f-4035-d45b-aa729967405c"
      },
      "execution_count": 5,
      "outputs": [
        {
          "output_type": "stream",
          "name": "stdout",
          "text": [
            "this is part of expression 1\n",
            "this is a part of expression 2 \n",
            "this is also  part of expression 1\n",
            "this is not part of any if statement\n"
          ]
        }
      ]
    },
    {
      "cell_type": "markdown",
      "source": [
        "##The if_elif_else statement"
      ],
      "metadata": {
        "id": "kyfKFG4czkpE"
      }
    },
    {
      "cell_type": "code",
      "source": [
        "age = int(input(\"please enter your age\"))\n",
        "\n",
        "if age <18:\n",
        "  print(\"you are a minor\")\n",
        "elif age<21:\n",
        "  print(\"you are an adult but cann't drink alcohol\")\n",
        "elif age<35:\n",
        "  print(\"you are younger than 35\")\n",
        "else:\n",
        "  print(\"you are  an adult\")\n",
        "\n",
        "print(\"if statement finished\")"
      ],
      "metadata": {
        "colab": {
          "base_uri": "https://localhost:8080/"
        },
        "id": "wiLv24k9zksq",
        "outputId": "1decda27-80e3-41f8-a51e-0aca16e2e5a7"
      },
      "execution_count": 6,
      "outputs": [
        {
          "output_type": "stream",
          "name": "stdout",
          "text": [
            "please enter your age44\n",
            "you are  an adult\n",
            "if statement finished\n"
          ]
        }
      ]
    },
    {
      "cell_type": "markdown",
      "source": [
        "####Shorthand if statement"
      ],
      "metadata": {
        "id": "FeswR0VBzky1"
      }
    },
    {
      "cell_type": "code",
      "source": [
        "a, b =50, 20\n"
      ],
      "metadata": {
        "id": "Rd6Www8mzk13"
      },
      "execution_count": 7,
      "outputs": []
    },
    {
      "cell_type": "code",
      "source": [
        "if a>b:print(\"a>b\")"
      ],
      "metadata": {
        "colab": {
          "base_uri": "https://localhost:8080/"
        },
        "id": "qdSRLLvh8rCv",
        "outputId": "e7a1de97-f252-487b-be88-8ff1f6e9461c"
      },
      "execution_count": 8,
      "outputs": [
        {
          "output_type": "stream",
          "name": "stdout",
          "text": [
            "a>b\n"
          ]
        }
      ]
    },
    {
      "cell_type": "code",
      "source": [
        "print (\"a>b\") if a>b else print(\"b>a\")"
      ],
      "metadata": {
        "colab": {
          "base_uri": "https://localhost:8080/"
        },
        "id": "fE8h86ZsQIRz",
        "outputId": "3ed54b77-c594-45c5-927c-51242bd0698f"
      },
      "execution_count": 12,
      "outputs": [
        {
          "output_type": "stream",
          "name": "stdout",
          "text": [
            "a>b\n"
          ]
        }
      ]
    },
    {
      "cell_type": "code",
      "source": [
        "max = a if a>b else b\n",
        "print(max)"
      ],
      "metadata": {
        "colab": {
          "base_uri": "https://localhost:8080/"
        },
        "id": "j2BJPKhQQIVt",
        "outputId": "399ec3fc-a736-42c7-9195-cae7bb424978"
      },
      "execution_count": 14,
      "outputs": [
        {
          "output_type": "stream",
          "name": "stdout",
          "text": [
            "50\n"
          ]
        }
      ]
    },
    {
      "cell_type": "code",
      "source": [],
      "metadata": {
        "id": "u8g-Ma58QIZ1"
      },
      "execution_count": null,
      "outputs": []
    },
    {
      "cell_type": "markdown",
      "source": [
        "#practice"
      ],
      "metadata": {
        "id": "xb8BIFAD8rHc"
      }
    },
    {
      "cell_type": "code",
      "source": [
        "import random"
      ],
      "metadata": {
        "id": "YmE42fwo8rPT"
      },
      "execution_count": 22,
      "outputs": []
    },
    {
      "cell_type": "code",
      "source": [
        "nb =random.randint(0,100)\n",
        "print(f\"Number {nb} is even\") if nb % 2  == 0 else print(f'Number {nb} is odd')"
      ],
      "metadata": {
        "colab": {
          "base_uri": "https://localhost:8080/"
        },
        "id": "A2t2ZfLg8rTg",
        "outputId": "65acbd0e-55d2-46ab-9107-30e7cd6cd189"
      },
      "execution_count": 27,
      "outputs": [
        {
          "output_type": "stream",
          "name": "stdout",
          "text": [
            "Number 4 is even\n"
          ]
        }
      ]
    },
    {
      "cell_type": "code",
      "source": [
        "numb =int(input('Please enter a number from 0-100:  '))\n",
        "print(f\"Number {numb} is even\") if numb % 2  ==0  else print(f\"number {numb}  is  odd\")"
      ],
      "metadata": {
        "colab": {
          "base_uri": "https://localhost:8080/"
        },
        "id": "SazCOHG_8rXX",
        "outputId": "596c3e36-f670-4805-e21c-50ea6dc20151"
      },
      "execution_count": 17,
      "outputs": [
        {
          "output_type": "stream",
          "name": "stdout",
          "text": [
            "Please enter a number from 0-100:  4\n",
            "Number 4 is even\n"
          ]
        }
      ]
    },
    {
      "cell_type": "code",
      "source": [],
      "metadata": {
        "id": "kPGQGwu48rdZ"
      },
      "execution_count": null,
      "outputs": []
    },
    {
      "cell_type": "code",
      "source": [
        "# Check if the client has purchased a hammer.\n",
        "purchase= [\"saw\", \"nails\", \"hammer\"]\n",
        "if \"hammer\" in purchase:\n",
        "    print(\"The client has purchased a hammer.\")\n",
        "else:\n",
        "    print(\"The client has not purchased a hammer.\")"
      ],
      "metadata": {
        "colab": {
          "base_uri": "https://localhost:8080/"
        },
        "id": "87fd5bgw8rhN",
        "outputId": "f3343f88-bbb8-4064-952f-c0f7934d07e0"
      },
      "execution_count": 30,
      "outputs": [
        {
          "output_type": "stream",
          "name": "stdout",
          "text": [
            "The client has purchased a hammer.\n"
          ]
        }
      ]
    },
    {
      "cell_type": "code",
      "source": [
        "# Assuming the client's cart is stored in a list\n",
        "cart = [\"hammer\", \"saw\", \"nails\", \"hammer\",]\n",
        "\n",
        "# Create a set of unique items in the cart\n",
        "unique_items = set(cart)\n",
        "\n",
        "# Check if any item appears more than once in the cart\n",
        "has_duplicate = any(cart.count(item) > 1 for item in unique_items)\n",
        "\n",
        "if has_duplicate:\n",
        "    print(\"The client has two or more of the same item in the cart.\")\n",
        "else:\n",
        "    print(\"The client does not have two of the same item in the cart.\")"
      ],
      "metadata": {
        "colab": {
          "base_uri": "https://localhost:8080/"
        },
        "id": "398Vecld8rlO",
        "outputId": "1bc7b446-5cd8-4bfb-e046-93e4db8b02a6"
      },
      "execution_count": 31,
      "outputs": [
        {
          "output_type": "stream",
          "name": "stdout",
          "text": [
            "The client has two or more of the same item in the cart.\n"
          ]
        }
      ]
    },
    {
      "cell_type": "code",
      "source": [],
      "metadata": {
        "id": "R_sKS3-FCIT9"
      },
      "execution_count": null,
      "outputs": []
    },
    {
      "cell_type": "code",
      "source": [
        "client_funds, price, client_products = 110, 50, 0\n",
        "#nitializes three variables: client_funds with a value of 110, price with a value of 50, and client_products with a value of 0.\n",
        "if client_funds >= price:\n",
        "    client_products += client_funds // price\n",
        "    client_funds %= price\n",
        "    print(f\"You have {client_products} product(s)\")\n",
        "    print(f\"You have {client_funds}$ left\")\n",
        "    # continue purchase flow\n",
        "else:\n",
        "    print(\"You have insufficient funds\")"
      ],
      "metadata": {
        "id": "pARU0fab8rpB"
      },
      "execution_count": null,
      "outputs": []
    },
    {
      "cell_type": "code",
      "source": [],
      "metadata": {
        "id": "paMrPysR8ru-"
      },
      "execution_count": null,
      "outputs": []
    },
    {
      "cell_type": "markdown",
      "source": [
        "##The pass Keyword"
      ],
      "metadata": {
        "id": "Phbvhah58ryr"
      }
    },
    {
      "cell_type": "code",
      "source": [
        "has_cat =False\n",
        "\n",
        "if has_cat: #means if has cat ==true\n",
        "  pass\n",
        "else:\n",
        "  print(\"you should get a cat\")"
      ],
      "metadata": {
        "colab": {
          "base_uri": "https://localhost:8080/"
        },
        "id": "D-Aj-3Qt8r6P",
        "outputId": "5107f488-6de3-4e60-b73e-90cdff8c8a9d"
      },
      "execution_count": 15,
      "outputs": [
        {
          "output_type": "stream",
          "name": "stdout",
          "text": [
            "you should get a cat\n"
          ]
        }
      ]
    },
    {
      "cell_type": "code",
      "source": [
        "has_dog =False\n",
        "\n",
        "if has_dog:\n",
        "  print(\"aweasonme!\")\n",
        "else:\n",
        "  pass\n",
        "  print(\"you should get one\")"
      ],
      "metadata": {
        "colab": {
          "base_uri": "https://localhost:8080/"
        },
        "id": "wEUFhFOIzk5P",
        "outputId": "372128f6-8c91-4c19-da53-b5a311c272b6"
      },
      "execution_count": 16,
      "outputs": [
        {
          "output_type": "stream",
          "name": "stdout",
          "text": [
            "you should get one\n"
          ]
        }
      ]
    },
    {
      "cell_type": "markdown",
      "source": [
        "#The for Loop"
      ],
      "metadata": {
        "id": "f-gXzhmCzk8V"
      }
    },
    {
      "cell_type": "code",
      "source": [
        "animals = ['cat', 'dog', 'horse']\n",
        "for animal in animals:\n",
        "    print(f\"There is a {animal}\")"
      ],
      "metadata": {
        "colab": {
          "base_uri": "https://localhost:8080/"
        },
        "id": "2z7Yfwpdn72e",
        "outputId": "7ae1e844-a77f-4518-c54e-eee73d186ca8"
      },
      "execution_count": 19,
      "outputs": [
        {
          "output_type": "stream",
          "name": "stdout",
          "text": [
            "There is a cat\n",
            "There is a dog\n",
            "There is a horse\n"
          ]
        }
      ]
    },
    {
      "cell_type": "code",
      "source": [
        "for letter in 'pineapple':\n",
        "    print(letter.upper())"
      ],
      "metadata": {
        "colab": {
          "base_uri": "https://localhost:8080/"
        },
        "id": "kmDUF4m9n75s",
        "outputId": "2cf41b05-4184-40ee-9bcf-a346a60314f9"
      },
      "execution_count": 20,
      "outputs": [
        {
          "output_type": "stream",
          "name": "stdout",
          "text": [
            "P\n",
            "I\n",
            "N\n",
            "E\n",
            "A\n",
            "P\n",
            "P\n",
            "L\n",
            "E\n"
          ]
        }
      ]
    },
    {
      "cell_type": "code",
      "source": [
        "for number in range(0, 20, 2):\n",
        "    print(f\"{number} is an even number\")"
      ],
      "metadata": {
        "colab": {
          "base_uri": "https://localhost:8080/"
        },
        "id": "c-MjLawmn7_m",
        "outputId": "d67504bc-a3f3-4ddb-a85b-2cefb091e48d"
      },
      "execution_count": 21,
      "outputs": [
        {
          "output_type": "stream",
          "name": "stdout",
          "text": [
            "0 is an even number\n",
            "2 is an even number\n",
            "4 is an even number\n",
            "6 is an even number\n",
            "8 is an even number\n",
            "10 is an even number\n",
            "12 is an even number\n",
            "14 is an even number\n",
            "16 is an even number\n",
            "18 is an even number\n"
          ]
        }
      ]
    },
    {
      "cell_type": "markdown",
      "source": [
        "##break and continue"
      ],
      "metadata": {
        "id": "j_Tc4KB0SO8E"
      }
    },
    {
      "cell_type": "code",
      "source": [
        "for number in range(0, 20, 2):\n",
        "    print(f\"{number} is an even number\")\n",
        "    if number == 10:\n",
        "        print(\"On ho! Not 10\")\n",
        "        break\n",
        "print(\"Next steps in out code\")"
      ],
      "metadata": {
        "colab": {
          "base_uri": "https://localhost:8080/"
        },
        "id": "atGg1EnhSUrn",
        "outputId": "0afe715e-64fa-455f-d2f7-2742862c589b"
      },
      "execution_count": 22,
      "outputs": [
        {
          "output_type": "stream",
          "name": "stdout",
          "text": [
            "0 is an even number\n",
            "2 is an even number\n",
            "4 is an even number\n",
            "6 is an even number\n",
            "8 is an even number\n",
            "10 is an even number\n",
            "On ho! Not 10\n",
            "Next steps in out code\n"
          ]
        }
      ]
    },
    {
      "cell_type": "code",
      "source": [
        "for number in range(0, 20, 2):\n",
        "    if number == 10:\n",
        "        print(\"We are not executing 10\")\n",
        "        continue\n",
        "    print(f\"{number} is an even number\")"
      ],
      "metadata": {
        "colab": {
          "base_uri": "https://localhost:8080/"
        },
        "id": "03whp19jSW7z",
        "outputId": "e4781a07-de7c-4db2-be12-135a65654726"
      },
      "execution_count": 23,
      "outputs": [
        {
          "output_type": "stream",
          "name": "stdout",
          "text": [
            "0 is an even number\n",
            "2 is an even number\n",
            "4 is an even number\n",
            "6 is an even number\n",
            "8 is an even number\n",
            "We are not executing 10\n",
            "12 is an even number\n",
            "14 is an even number\n",
            "16 is an even number\n",
            "18 is an even number\n"
          ]
        }
      ]
    },
    {
      "cell_type": "markdown",
      "source": [
        "##Practice"
      ],
      "metadata": {
        "id": "ZUWBCTTmSfPS"
      }
    },
    {
      "cell_type": "code",
      "source": [
        "for i in range(0, 10):\n",
        "    print(\"Hello for loop\")"
      ],
      "metadata": {
        "colab": {
          "base_uri": "https://localhost:8080/"
        },
        "id": "hc3SsIk6SkHU",
        "outputId": "c74699ef-48b2-4c34-f677-2d1cdcf620d3"
      },
      "execution_count": 24,
      "outputs": [
        {
          "output_type": "stream",
          "name": "stdout",
          "text": [
            "Hello for loop\n",
            "Hello for loop\n",
            "Hello for loop\n",
            "Hello for loop\n",
            "Hello for loop\n",
            "Hello for loop\n",
            "Hello for loop\n",
            "Hello for loop\n",
            "Hello for loop\n",
            "Hello for loop\n"
          ]
        }
      ]
    },
    {
      "cell_type": "code",
      "source": [
        "sum = 0\n",
        "for number in range(0, 101):\n",
        "    if number % 10 == 0:\n",
        "        continue\n",
        "    sum += number\n",
        "print(f\"The sum is {sum}\")"
      ],
      "metadata": {
        "colab": {
          "base_uri": "https://localhost:8080/"
        },
        "id": "AXOPPzGCSkLA",
        "outputId": "2b69cf70-ebdf-4a8c-c4c4-022e5d978ae2"
      },
      "execution_count": 25,
      "outputs": [
        {
          "output_type": "stream",
          "name": "stdout",
          "text": [
            "The sum is 4500\n"
          ]
        }
      ]
    },
    {
      "cell_type": "code",
      "source": [
        "customers = {\n",
        "    'Alice': 4,\n",
        "    'Judy': 8,\n",
        "    'Anna': 6\n",
        "}\n",
        "for customer in customers:\n",
        "    print(\"{} has made {} purchases\".format(customer, customers[customer]))\n"
      ],
      "metadata": {
        "colab": {
          "base_uri": "https://localhost:8080/"
        },
        "id": "2m7KSYmbSrvI",
        "outputId": "9f436d18-9738-492f-c235-4894c8dbe69b"
      },
      "execution_count": 26,
      "outputs": [
        {
          "output_type": "stream",
          "name": "stdout",
          "text": [
            "Alice has made 4 purchases\n",
            "Judy has made 8 purchases\n",
            "Anna has made 6 purchases\n"
          ]
        }
      ]
    },
    {
      "cell_type": "markdown",
      "source": [
        "##Using else with for Loops"
      ],
      "metadata": {
        "id": "tXeITloPStw9"
      }
    },
    {
      "cell_type": "code",
      "source": [
        "numbers1 = [1, 5, 9, 5, 7, 3]\n",
        "numbers2 = [2, 8, 6, 2, 4, 10]\n",
        "\n",
        "for number in numbers2:\n",
        "    if number % 2 == 0:\n",
        "        print(\"List contains at least 1 even number\")\n",
        "        break\n",
        "else:\n",
        "    print(\"The list does not contain any even numbers\")"
      ],
      "metadata": {
        "colab": {
          "base_uri": "https://localhost:8080/"
        },
        "id": "0YEJriYxS7cL",
        "outputId": "d163a73a-c9de-48d2-d4fd-bb5cdd2b496c"
      },
      "execution_count": 27,
      "outputs": [
        {
          "output_type": "stream",
          "name": "stdout",
          "text": [
            "List contains at least 1 even number\n"
          ]
        }
      ]
    },
    {
      "cell_type": "markdown",
      "source": [
        "##Nested Loops"
      ],
      "metadata": {
        "id": "Eau0FHkOS-Dj"
      }
    },
    {
      "cell_type": "code",
      "source": [
        "for x in range(6):\n",
        "    for y in range(6):\n",
        "        print(f\"{x} * {y} = {x * y}\")\n"
      ],
      "metadata": {
        "colab": {
          "base_uri": "https://localhost:8080/"
        },
        "id": "3hltMaRvTCkR",
        "outputId": "5f4ac350-81e9-4398-cfd7-d29fccac87b7"
      },
      "execution_count": 28,
      "outputs": [
        {
          "output_type": "stream",
          "name": "stdout",
          "text": [
            "0 * 0 = 0\n",
            "0 * 1 = 0\n",
            "0 * 2 = 0\n",
            "0 * 3 = 0\n",
            "0 * 4 = 0\n",
            "0 * 5 = 0\n",
            "1 * 0 = 0\n",
            "1 * 1 = 1\n",
            "1 * 2 = 2\n",
            "1 * 3 = 3\n",
            "1 * 4 = 4\n",
            "1 * 5 = 5\n",
            "2 * 0 = 0\n",
            "2 * 1 = 2\n",
            "2 * 2 = 4\n",
            "2 * 3 = 6\n",
            "2 * 4 = 8\n",
            "2 * 5 = 10\n",
            "3 * 0 = 0\n",
            "3 * 1 = 3\n",
            "3 * 2 = 6\n",
            "3 * 3 = 9\n",
            "3 * 4 = 12\n",
            "3 * 5 = 15\n",
            "4 * 0 = 0\n",
            "4 * 1 = 4\n",
            "4 * 2 = 8\n",
            "4 * 3 = 12\n",
            "4 * 4 = 16\n",
            "4 * 5 = 20\n",
            "5 * 0 = 0\n",
            "5 * 1 = 5\n",
            "5 * 2 = 10\n",
            "5 * 3 = 15\n",
            "5 * 4 = 20\n",
            "5 * 5 = 25\n"
          ]
        }
      ]
    },
    {
      "cell_type": "code",
      "source": [
        "size = 5\n",
        "for x in range(size):\n",
        "    for y in range(size):\n",
        "        print(f\"{x},{y}\\t\\t\", end='')\n",
        "    print()\n"
      ],
      "metadata": {
        "colab": {
          "base_uri": "https://localhost:8080/"
        },
        "id": "41zEKt_wTCnt",
        "outputId": "686c593c-f301-4864-c934-3cd00351a49f"
      },
      "execution_count": 29,
      "outputs": [
        {
          "output_type": "stream",
          "name": "stdout",
          "text": [
            "0,0\t\t0,1\t\t0,2\t\t0,3\t\t0,4\t\t\n",
            "1,0\t\t1,1\t\t1,2\t\t1,3\t\t1,4\t\t\n",
            "2,0\t\t2,1\t\t2,2\t\t2,3\t\t2,4\t\t\n",
            "3,0\t\t3,1\t\t3,2\t\t3,3\t\t3,4\t\t\n",
            "4,0\t\t4,1\t\t4,2\t\t4,3\t\t4,4\t\t\n"
          ]
        }
      ]
    },
    {
      "cell_type": "code",
      "source": [
        "for x in range(size):\n",
        "    for y in range(size):\n",
        "        if (x + y) % 2:\n",
        "            print(\"\\U0001F600\\t\", end='')\n",
        "        else:\n",
        "            print(\"\\U0001F60D\\t\", end='')\n",
        "    print()\n"
      ],
      "metadata": {
        "colab": {
          "base_uri": "https://localhost:8080/"
        },
        "id": "dv9VB_DfTCs_",
        "outputId": "c4e894be-b253-4dd8-d9cc-acb9eaa8eb96"
      },
      "execution_count": 30,
      "outputs": [
        {
          "output_type": "stream",
          "name": "stdout",
          "text": [
            "😍\t😀\t😍\t😀\t😍\t\n",
            "😀\t😍\t😀\t😍\t😀\t\n",
            "😍\t😀\t😍\t😀\t😍\t\n",
            "😀\t😍\t😀\t😍\t😀\t\n",
            "😍\t😀\t😍\t😀\t😍\t\n"
          ]
        }
      ]
    },
    {
      "cell_type": "markdown",
      "source": [
        "##The while Loop"
      ],
      "metadata": {
        "id": "fa49s8EATCwv"
      }
    },
    {
      "cell_type": "code",
      "source": [
        "i = 0\n",
        "while i < 6:\n",
        "    print(i)\n",
        "    i += 1"
      ],
      "metadata": {
        "colab": {
          "base_uri": "https://localhost:8080/"
        },
        "id": "IG6qroGfTUGT",
        "outputId": "b668fc75-963b-4de5-bdf3-cf77d1505306"
      },
      "execution_count": 31,
      "outputs": [
        {
          "output_type": "stream",
          "name": "stdout",
          "text": [
            "0\n",
            "1\n",
            "2\n",
            "3\n",
            "4\n",
            "5\n"
          ]
        }
      ]
    },
    {
      "cell_type": "code",
      "source": [
        "puzzle_pieces = 20\n",
        "pieces_placed = 0\n",
        "\n",
        "while pieces_placed < puzzle_pieces:\n",
        "    pieces_placed += 1\n",
        "    print(f\"Piece {pieces_placed} placed\")\n"
      ],
      "metadata": {
        "colab": {
          "base_uri": "https://localhost:8080/"
        },
        "id": "aR_76turTUJx",
        "outputId": "1b3e4bf6-07fd-45c5-b882-5f8754cb7c12"
      },
      "execution_count": 32,
      "outputs": [
        {
          "output_type": "stream",
          "name": "stdout",
          "text": [
            "Piece 1 placed\n",
            "Piece 2 placed\n",
            "Piece 3 placed\n",
            "Piece 4 placed\n",
            "Piece 5 placed\n",
            "Piece 6 placed\n",
            "Piece 7 placed\n",
            "Piece 8 placed\n",
            "Piece 9 placed\n",
            "Piece 10 placed\n",
            "Piece 11 placed\n",
            "Piece 12 placed\n",
            "Piece 13 placed\n",
            "Piece 14 placed\n",
            "Piece 15 placed\n",
            "Piece 16 placed\n",
            "Piece 17 placed\n",
            "Piece 18 placed\n",
            "Piece 19 placed\n",
            "Piece 20 placed\n"
          ]
        }
      ]
    },
    {
      "cell_type": "markdown",
      "source": [
        "##Using else with while Loops"
      ],
      "metadata": {
        "id": "LacewlamTUNv"
      }
    },
    {
      "cell_type": "code",
      "source": [
        "i = 1\n",
        "while i < 10:\n",
        "    i += 3\n",
        "    if i % 2 == 0:\n",
        "        print(\"Sequence contains an even number\")\n",
        "        break\n",
        "else:\n",
        "    print(\"Sequence does not contain an even number\")"
      ],
      "metadata": {
        "colab": {
          "base_uri": "https://localhost:8080/"
        },
        "id": "RH2MKukdTUSp",
        "outputId": "f201ecfb-51aa-46f9-ad92-7afe1b322c2b"
      },
      "execution_count": 33,
      "outputs": [
        {
          "output_type": "stream",
          "name": "stdout",
          "text": [
            "Sequence contains an even number\n"
          ]
        }
      ]
    },
    {
      "cell_type": "markdown",
      "source": [
        "###A bit of Practice"
      ],
      "metadata": {
        "id": "LPwmEuvqTUWc"
      }
    },
    {
      "cell_type": "code",
      "source": [
        "i = 0\n",
        "while i < 10:\n",
        "    i += 1\n",
        "    print(f\"{i}. Hello while loop\")"
      ],
      "metadata": {
        "colab": {
          "base_uri": "https://localhost:8080/"
        },
        "id": "0Jq_LjxCTt8_",
        "outputId": "a834272f-106a-445c-9077-b1db0361e6a1"
      },
      "execution_count": 34,
      "outputs": [
        {
          "output_type": "stream",
          "name": "stdout",
          "text": [
            "1. Hello while loop\n",
            "2. Hello while loop\n",
            "3. Hello while loop\n",
            "4. Hello while loop\n",
            "5. Hello while loop\n",
            "6. Hello while loop\n",
            "7. Hello while loop\n",
            "8. Hello while loop\n",
            "9. Hello while loop\n",
            "10. Hello while loop\n"
          ]
        }
      ]
    },
    {
      "cell_type": "code",
      "source": [
        "cats = ['Tigger', 'Smokey', 'Sassy', 'Patch', 'Sammy']\n",
        "i = 0\n",
        "while i < len(cats):\n",
        "    print(f\"Hello {cats[i]}\")\n",
        "    i += 1\n"
      ],
      "metadata": {
        "colab": {
          "base_uri": "https://localhost:8080/"
        },
        "id": "5JrbaQ_9TuAq",
        "outputId": "8a268acc-0ce2-4eaa-fc4a-37506314d082"
      },
      "execution_count": 35,
      "outputs": [
        {
          "output_type": "stream",
          "name": "stdout",
          "text": [
            "Hello Tigger\n",
            "Hello Smokey\n",
            "Hello Sassy\n",
            "Hello Patch\n",
            "Hello Sammy\n"
          ]
        }
      ]
    },
    {
      "cell_type": "code",
      "source": [
        "number = int(input(\"Please enter a number:\\n\"))\n",
        "factorial = 1\n",
        "i = 1\n",
        "while i <= number:\n",
        "    factorial *= i\n",
        "    i += 1\n",
        "print(f\"{number}! = {factorial}\")"
      ],
      "metadata": {
        "colab": {
          "base_uri": "https://localhost:8080/"
        },
        "id": "n9cmgY7GTuFE",
        "outputId": "e2ab8a59-a4b8-43e0-d2fe-0bb463501393"
      },
      "execution_count": 36,
      "outputs": [
        {
          "output_type": "stream",
          "name": "stdout",
          "text": [
            "Please enter a number:\n",
            "8\n",
            "8! = 40320\n"
          ]
        }
      ]
    },
    {
      "cell_type": "code",
      "source": [
        "i = 0\n",
        "while True:\n",
        "    print(i)\n",
        "    i += 1\n",
        "    if i >= 10:\n",
        "        break\n"
      ],
      "metadata": {
        "colab": {
          "base_uri": "https://localhost:8080/"
        },
        "id": "4si6ka9QTuJ0",
        "outputId": "427cc58b-cedf-4941-afa9-d90f7e5d4000"
      },
      "execution_count": 37,
      "outputs": [
        {
          "output_type": "stream",
          "name": "stdout",
          "text": [
            "0\n",
            "1\n",
            "2\n",
            "3\n",
            "4\n",
            "5\n",
            "6\n",
            "7\n",
            "8\n",
            "9\n"
          ]
        }
      ]
    },
    {
      "cell_type": "code",
      "source": [],
      "metadata": {
        "id": "QiErbEYCT5ak"
      },
      "execution_count": null,
      "outputs": []
    }
  ]
}