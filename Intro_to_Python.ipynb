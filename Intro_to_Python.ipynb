{
  "nbformat": 4,
  "nbformat_minor": 0,
  "metadata": {
    "colab": {
      "provenance": [],
      "authorship_tag": "ABX9TyMSHf30mCI9S5h10b+Nv//Q",
      "include_colab_link": true
    },
    "kernelspec": {
      "name": "python3",
      "display_name": "Python 3"
    },
    "language_info": {
      "name": "python"
    }
  },
  "cells": [
    {
      "cell_type": "markdown",
      "metadata": {
        "id": "view-in-github",
        "colab_type": "text"
      },
      "source": [
        "<a href=\"https://colab.research.google.com/github/Eric1891/TTP-SUMMER-23/blob/main/Intro_to_Python.ipynb\" target=\"_parent\"><img src=\"https://colab.research.google.com/assets/colab-badge.svg\" alt=\"Open In Colab\"/></a>"
      ]
    },
    {
      "cell_type": "markdown",
      "source": [
        "#Python Basics"
      ],
      "metadata": {
        "id": "blutwJktHQNF"
      }
    },
    {
      "cell_type": "code",
      "source": [
        "print('Hi there')\n",
        "#using print() method to print \"hi there\" to the user."
      ],
      "metadata": {
        "colab": {
          "base_uri": "https://localhost:8080/"
        },
        "id": "M6aRp_uGIkMY",
        "outputId": "3e2b5d62-8f14-4270-e675-b88d9c053b64"
      },
      "execution_count": null,
      "outputs": [
        {
          "output_type": "stream",
          "name": "stdout",
          "text": [
            "Hi there\n"
          ]
        }
      ]
    },
    {
      "cell_type": "markdown",
      "source": [
        "##String & the print() function"
      ],
      "metadata": {
        "id": "hGEnB00DLSjw"
      }
    },
    {
      "cell_type": "code",
      "source": [
        "print (\"There are two types of slashes: \\\\ and /\")\n",
        "#using print() method to print \"There are two types of slashes\""
      ],
      "metadata": {
        "colab": {
          "base_uri": "https://localhost:8080/"
        },
        "id": "9n6rp5kHIkP1",
        "outputId": "e1d3f420-ed87-4cd2-f2c8-884da542f075"
      },
      "execution_count": null,
      "outputs": [
        {
          "output_type": "stream",
          "name": "stdout",
          "text": [
            "There are two types of slashes: \\ and /\n"
          ]
        }
      ]
    },
    {
      "cell_type": "code",
      "source": [
        "print(\"\"\"\n",
        "       This is a tabbed line\n",
        "This is a regular line\n",
        "\"\"\")\n",
        "#this code snippet demonstrates the use of triple quotes to define\n",
        "# multiline strings and the output will show a tabbed line followed by a regular line"
      ],
      "metadata": {
        "colab": {
          "base_uri": "https://localhost:8080/"
        },
        "id": "UUGG0lPaIkTl",
        "outputId": "302f388e-594b-49da-9e89-81c243b8a819"
      },
      "execution_count": null,
      "outputs": [
        {
          "output_type": "stream",
          "name": "stdout",
          "text": [
            "\n",
            "       This is a tabbed line \n",
            "This is a regular line\n",
            "\n"
          ]
        }
      ]
    },
    {
      "cell_type": "code",
      "source": [
        "print(\"\\n\\tThis is a tabbed  line\\nThis is a regular line\")\n",
        "#using print function: \\n is used to represent a new line character\n",
        "#\\t is used to represnt a tab character"
      ],
      "metadata": {
        "colab": {
          "base_uri": "https://localhost:8080/"
        },
        "id": "DF1gtP7ZIkXA",
        "outputId": "d61819dc-f202-40f5-9960-27844f749f8a"
      },
      "execution_count": null,
      "outputs": [
        {
          "output_type": "stream",
          "name": "stdout",
          "text": [
            "\n",
            "\tThis is a tabbed  line\n",
            "This is a regular line\n"
          ]
        }
      ]
    },
    {
      "cell_type": "code",
      "source": [
        "print(\"first name\" + ' lase name')\n",
        "#the plus operator + is used to concatenate the two strings combing them into a\n",
        "#a single string."
      ],
      "metadata": {
        "colab": {
          "base_uri": "https://localhost:8080/"
        },
        "id": "tX494j9FIkZy",
        "outputId": "9d715123-c68f-4731-cbe1-62f2170a198f"
      },
      "execution_count": null,
      "outputs": [
        {
          "output_type": "stream",
          "name": "stdout",
          "text": [
            "first name lase name\n"
          ]
        }
      ]
    },
    {
      "cell_type": "markdown",
      "source": [
        "##Variable"
      ],
      "metadata": {
        "id": "UtDKDW70IkcV"
      }
    },
    {
      "cell_type": "code",
      "source": [
        "dogs = 3\n",
        "cats = \"Mang fluffy cats\"\n",
        "# the line dogs = 3 assigns the value 3 to the variable dogs that means dogs hold the value 3.\n",
        "#cats=\"mang fluffy cats\" assigns the string \"Mang fluffy cats\" to the variable that means the\n",
        "#the variable hold the string \"Mang fluffy cats\"."
      ],
      "metadata": {
        "id": "IkbiZu-XIkfB"
      },
      "execution_count": null,
      "outputs": []
    },
    {
      "cell_type": "code",
      "source": [
        "dogs\n",
        "#variable dogs represent a value of 3"
      ],
      "metadata": {
        "colab": {
          "base_uri": "https://localhost:8080/"
        },
        "id": "fh8C6AO9Ikh5",
        "outputId": "387f37b8-7db7-4853-b32a-20a515e3e799"
      },
      "execution_count": null,
      "outputs": [
        {
          "output_type": "execute_result",
          "data": {
            "text/plain": [
              "3"
            ]
          },
          "metadata": {},
          "execution_count": 3
        }
      ]
    },
    {
      "cell_type": "code",
      "source": [
        "cats\n",
        "#variable cats represent a value of Mang fluffy cats"
      ],
      "metadata": {
        "colab": {
          "base_uri": "https://localhost:8080/",
          "height": 35
        },
        "id": "CrpnaVFKIkky",
        "outputId": "755e1455-0720-4d0f-89cc-8450d2d81bbc"
      },
      "execution_count": null,
      "outputs": [
        {
          "output_type": "execute_result",
          "data": {
            "text/plain": [
              "'Mang fluffy cats'"
            ],
            "application/vnd.google.colaboratory.intrinsic+json": {
              "type": "string"
            }
          },
          "metadata": {},
          "execution_count": 4
        }
      ]
    },
    {
      "cell_type": "code",
      "source": [
        "type(dogs)\n",
        "#the variable dogs is assigned the value 3, which is integer, so the type() function is class int."
      ],
      "metadata": {
        "colab": {
          "base_uri": "https://localhost:8080/"
        },
        "id": "rZfmIo2NIkoI",
        "outputId": "57b648a8-8690-4a27-ee76-7d00171c15cd"
      },
      "execution_count": null,
      "outputs": [
        {
          "output_type": "execute_result",
          "data": {
            "text/plain": [
              "int"
            ]
          },
          "metadata": {},
          "execution_count": 5
        }
      ]
    },
    {
      "cell_type": "code",
      "source": [
        "type(cats)\n",
        "#the variable cats is assigned the value Mang fluffy cats, which is string, so the type() function is class str."
      ],
      "metadata": {
        "colab": {
          "base_uri": "https://localhost:8080/"
        },
        "id": "xMDBfCWuIksl",
        "outputId": "febf4aba-efe2-42b6-a88b-f717596a2dd1"
      },
      "execution_count": null,
      "outputs": [
        {
          "output_type": "execute_result",
          "data": {
            "text/plain": [
              "str"
            ]
          },
          "metadata": {},
          "execution_count": 6
        }
      ]
    },
    {
      "cell_type": "code",
      "source": [
        "hi = \"Hello \"\n",
        "name = \" John\"\n",
        "print(hi + name)\n",
        "#using print() function to concatenate the values of the hi and name variables.\n",
        "#the + operator is used to combin the strings."
      ],
      "metadata": {
        "colab": {
          "base_uri": "https://localhost:8080/"
        },
        "id": "fqeNLZkQIkwz",
        "outputId": "d2600242-4059-4efc-bb35-27702e0349b6"
      },
      "execution_count": null,
      "outputs": [
        {
          "output_type": "stream",
          "name": "stdout",
          "text": [
            "Hello  John\n"
          ]
        }
      ]
    },
    {
      "cell_type": "code",
      "source": [
        "more_dogs= 5\n",
        "print(dogs + more_dogs)\n",
        "#there are two variables dogs and more_dogs. the print (dogs + more_dogs) + operator is used to\n",
        "#to perform addition between the two varibales."
      ],
      "metadata": {
        "colab": {
          "base_uri": "https://localhost:8080/"
        },
        "id": "ha16IgnMIk0O",
        "outputId": "64aaee82-e36d-44ba-d7b1-f56c1c0551f5"
      },
      "execution_count": null,
      "outputs": [
        {
          "output_type": "stream",
          "name": "stdout",
          "text": [
            "8\n"
          ]
        }
      ]
    },
    {
      "cell_type": "code",
      "source": [
        "price = 19.99\n",
        "amount = 3\n",
        "##there are two variables  price and  amount.\n",
        "#the variable price is assigned the value 19.99\n",
        "#the variable item is assigned the value 3\n"
      ],
      "metadata": {
        "id": "FxgKsxnKIk3N"
      },
      "execution_count": null,
      "outputs": []
    },
    {
      "cell_type": "code",
      "source": [
        "print(price * amount)\n",
        "#to print function (price * amount), the values of these variable have to multiploication betwenn price and amount."
      ],
      "metadata": {
        "colab": {
          "base_uri": "https://localhost:8080/"
        },
        "id": "06hXrjEOIk-B",
        "outputId": "3f0f5705-6661-4f39-e7d4-da6955a26e53"
      },
      "execution_count": null,
      "outputs": [
        {
          "output_type": "stream",
          "name": "stdout",
          "text": [
            "59.97\n"
          ]
        }
      ]
    },
    {
      "cell_type": "markdown",
      "source": [
        "# Vaiable re-assignment"
      ],
      "metadata": {
        "id": "aRBsPWY8AVJJ"
      }
    },
    {
      "cell_type": "code",
      "source": [
        "\n",
        "dogs = \"New Value\"\n",
        "#assign the string new value to the variable dogs and then print the variable dogs\n",
        "\n",
        "print(dogs)"
      ],
      "metadata": {
        "colab": {
          "base_uri": "https://localhost:8080/"
        },
        "id": "9A8azNjMIDSh",
        "outputId": "f4e6a4cc-1f3b-4aa3-b013-137a3be93b08"
      },
      "execution_count": null,
      "outputs": [
        {
          "output_type": "stream",
          "name": "stdout",
          "text": [
            "New Value\n"
          ]
        }
      ]
    },
    {
      "cell_type": "code",
      "source": [
        "cat, dogs, rabbits= 2, 5, \"cute\"\n",
        "\n",
        "print(dogs)\n",
        "#assigning values to multiple variables"
      ],
      "metadata": {
        "colab": {
          "base_uri": "https://localhost:8080/"
        },
        "id": "0xNaXd6SIDWZ",
        "outputId": "60d87f82-8823-4f33-c2f1-bfa0edabbf6b"
      },
      "execution_count": null,
      "outputs": [
        {
          "output_type": "stream",
          "name": "stdout",
          "text": [
            "5\n"
          ]
        }
      ]
    },
    {
      "cell_type": "markdown",
      "source": [
        "##More Strings"
      ],
      "metadata": {
        "id": "dHdfxYV2IDaS"
      }
    },
    {
      "cell_type": "markdown",
      "source": [
        "### Indexing"
      ],
      "metadata": {
        "id": "CVtlYCqPIDdr"
      }
    },
    {
      "cell_type": "code",
      "source": [
        "greeting = \"Hello World!\"\n",
        "#the variable greeting hold string hello world"
      ],
      "metadata": {
        "id": "1mkw7fDLIDg9"
      },
      "execution_count": null,
      "outputs": []
    },
    {
      "cell_type": "code",
      "source": [
        "greeting\n",
        "#print the variable"
      ],
      "metadata": {
        "colab": {
          "base_uri": "https://localhost:8080/",
          "height": 35
        },
        "id": "fY3dMkvfIDj7",
        "outputId": "1c44473c-f266-439a-beb0-b6b70d94dc29"
      },
      "execution_count": null,
      "outputs": [
        {
          "output_type": "execute_result",
          "data": {
            "text/plain": [
              "'Hello World!'"
            ],
            "application/vnd.google.colaboratory.intrinsic+json": {
              "type": "string"
            }
          },
          "metadata": {},
          "execution_count": 26
        }
      ]
    },
    {
      "cell_type": "code",
      "source": [
        "print(greeting[4])\n",
        "#strings are zero-indexed, the first character of a string is at index0,so at index 4\n",
        "#of the string is  the letter o."
      ],
      "metadata": {
        "colab": {
          "base_uri": "https://localhost:8080/"
        },
        "id": "BuxbuH9cH19W",
        "outputId": "4b1d4159-66af-4eb9-e0f7-48c0325fb9d5"
      },
      "execution_count": null,
      "outputs": [
        {
          "output_type": "stream",
          "name": "stdout",
          "text": [
            "o\n"
          ]
        }
      ]
    },
    {
      "cell_type": "markdown",
      "source": [
        "# The 3rd, the 5th, and/or the 19th"
      ],
      "metadata": {
        "id": "Bll-thNbN3N7"
      }
    },
    {
      "cell_type": "code",
      "source": [
        "Today  = \"Today is Monday!\""
      ],
      "metadata": {
        "id": "PSf1GAnNN-2e"
      },
      "execution_count": null,
      "outputs": []
    },
    {
      "cell_type": "code",
      "source": [
        "Today"
      ],
      "metadata": {
        "colab": {
          "base_uri": "https://localhost:8080/",
          "height": 35
        },
        "id": "ZhQOHv0rN-6e",
        "outputId": "7c4bad7d-7b23-493b-e94f-362704365606"
      },
      "execution_count": null,
      "outputs": [
        {
          "output_type": "execute_result",
          "data": {
            "text/plain": [
              "'Today is Monday!'"
            ],
            "application/vnd.google.colaboratory.intrinsic+json": {
              "type": "string"
            }
          },
          "metadata": {},
          "execution_count": 30
        }
      ]
    },
    {
      "cell_type": "code",
      "source": [
        "print(Today[6])\n",
        "print(Today[4])\n"
      ],
      "metadata": {
        "colab": {
          "base_uri": "https://localhost:8080/"
        },
        "id": "hjVNUh32N--8",
        "outputId": "379217a0-1e0a-42a1-8071-c5a9d2014899"
      },
      "execution_count": null,
      "outputs": [
        {
          "output_type": "stream",
          "name": "stdout",
          "text": [
            "i\n",
            "y\n"
          ]
        }
      ]
    },
    {
      "cell_type": "code",
      "source": [
        "print(Today[3])\n"
      ],
      "metadata": {
        "colab": {
          "base_uri": "https://localhost:8080/"
        },
        "id": "5NCbSL3ON_HL",
        "outputId": "d6da6bb5-4e49-4bcc-cfe6-367dee2e7dd9"
      },
      "execution_count": null,
      "outputs": [
        {
          "output_type": "stream",
          "name": "stdout",
          "text": [
            "a\n"
          ]
        }
      ]
    },
    {
      "cell_type": "markdown",
      "source": [
        "#String Formatting"
      ],
      "metadata": {
        "id": "XLRclXGfN_LV"
      }
    },
    {
      "cell_type": "code",
      "source": [
        "price = 59.99\n",
        "#the variable is price holds the value 59.99"
      ],
      "metadata": {
        "id": "GkQSSqfrN_PE"
      },
      "execution_count": null,
      "outputs": []
    },
    {
      "cell_type": "code",
      "source": [
        "message = \" The products costs \" + str(price) +  \" dollars\"\n",
        "#create a new variable message and the str(price) part converts the values of the price."
      ],
      "metadata": {
        "id": "L7WQ6tQeN_Tl"
      },
      "execution_count": null,
      "outputs": []
    },
    {
      "cell_type": "code",
      "source": [
        "message"
      ],
      "metadata": {
        "colab": {
          "base_uri": "https://localhost:8080/",
          "height": 35
        },
        "id": "E5U8lBoyN_XK",
        "outputId": "441d860e-ac4c-4aa6-889b-c86cd1cbe30b"
      },
      "execution_count": null,
      "outputs": [
        {
          "output_type": "execute_result",
          "data": {
            "text/plain": [
              "' The products costs 59.99 dollars'"
            ],
            "application/vnd.google.colaboratory.intrinsic+json": {
              "type": "string"
            }
          },
          "metadata": {},
          "execution_count": 49
        }
      ]
    },
    {
      "cell_type": "code",
      "source": [
        "msg = \" The priducts cost {} dollars\". format(price)\n",
        "#the variable msg using format() method to instrtt the value of the price variable into the string.\n",
        "#the curly braces{} as placeholds within the string. the format(price) part formats the string by\n",
        "#replacing the curly braces with the value of the price variable."
      ],
      "metadata": {
        "id": "gYqzDgIsN_bJ"
      },
      "execution_count": null,
      "outputs": []
    },
    {
      "cell_type": "code",
      "source": [
        "msg"
      ],
      "metadata": {
        "colab": {
          "base_uri": "https://localhost:8080/",
          "height": 35
        },
        "id": "zQyOPFCyN_hh",
        "outputId": "0a411042-3d31-4cc6-a6a7-546878508170"
      },
      "execution_count": null,
      "outputs": [
        {
          "output_type": "execute_result",
          "data": {
            "text/plain": [
              "' The priducts cost 59.99 dollars'"
            ],
            "application/vnd.google.colaboratory.intrinsic+json": {
              "type": "string"
            }
          },
          "metadata": {},
          "execution_count": 56
        }
      ]
    },
    {
      "cell_type": "code",
      "source": [
        "amount = 3\n",
        "total = amount * price\n",
        "#variable amount holds  value 3\n",
        "#var total holds amount * price"
      ],
      "metadata": {
        "id": "0mZcDwo5N_kx"
      },
      "execution_count": null,
      "outputs": []
    },
    {
      "cell_type": "code",
      "source": [
        "msg2= 'For {} products at the price OF {}, the total will be: {}'\n",
        "#the new var msg2 holds the 'For {} products at the price OF {}, the total will be: {}'\n",
        "#format() method string formatting"
      ],
      "metadata": {
        "id": "q9uzNTGIN_rI"
      },
      "execution_count": null,
      "outputs": []
    },
    {
      "cell_type": "code",
      "source": [
        "print(msg2.format(amount,price,total))\n",
        "#print(msg2.format(amount, price, total)) uses the format() method to insert the values of amount, price, and total into the placeholders in the msg2 string"
      ],
      "metadata": {
        "colab": {
          "base_uri": "https://localhost:8080/"
        },
        "id": "_IgVG99cRlOq",
        "outputId": "87384c3b-c39d-448b-d42d-967f2b505679"
      },
      "execution_count": null,
      "outputs": [
        {
          "output_type": "stream",
          "name": "stdout",
          "text": [
            "For 3 products at the price OF 59.99, the total will be: 179.97\n"
          ]
        }
      ]
    },
    {
      "cell_type": "code",
      "source": [
        "msg3 ='For {2} products at the price OF {0}, the total will be: {1}'\n",
        "#defined a string variable msg3 with placeholds indicated by curly braces\n",
        "#using format() method,The first placeholder {0} is replaced with price, the second {1} with total, and the third {2} with amount"
      ],
      "metadata": {
        "id": "9wF084_zTDtA"
      },
      "execution_count": null,
      "outputs": []
    },
    {
      "cell_type": "code",
      "source": [
        "print(msg3.format(amount,price,total))\n",
        "#For {2} products at the price of {0}, the total will be: {1}', the positional indexes within the placeholders are {2}, {0}, and {1}.\n",
        "#The values are inserted into the placeholders based on their positional indexes. The first placeholder {2} is replaced with the value of\n",
        "#amount (which is 2), the second placeholder {0} is replaced with the value of price (which is 59.99), and the third placeholder {1} is replaced with the value of total\n"
      ],
      "metadata": {
        "colab": {
          "base_uri": "https://localhost:8080/"
        },
        "id": "0Uhlp7N_S3_p",
        "outputId": "64c0714a-3d34-436b-980d-262cf2034c05"
      },
      "execution_count": null,
      "outputs": [
        {
          "output_type": "stream",
          "name": "stdout",
          "text": [
            "For 179.97 products at the price OF 3, the total will be: 19.99\n"
          ]
        }
      ]
    },
    {
      "cell_type": "markdown",
      "source": [
        "####The 'f-String Method!"
      ],
      "metadata": {
        "id": "fa1qWH2PRwDB"
      }
    },
    {
      "cell_type": "code",
      "source": [
        "price = 19.99\n",
        "items = 3\n",
        "#set variable price hold value 19.99, variable items hold 3"
      ],
      "metadata": {
        "id": "qFEKkJAHSd5v"
      },
      "execution_count": null,
      "outputs": []
    },
    {
      "cell_type": "code",
      "source": [
        "msg = f' This individual product is {price}'\n",
        "#creates a formatted string using f-string formatting. It incorporates the value of the price variable into the string."
      ],
      "metadata": {
        "id": "xyh0t3SWSeHS"
      },
      "execution_count": null,
      "outputs": []
    },
    {
      "cell_type": "code",
      "source": [
        "msg\n",
        "#print the value of the msg variable"
      ],
      "metadata": {
        "colab": {
          "base_uri": "https://localhost:8080/",
          "height": 35
        },
        "id": "pE7hQI3hTU_1",
        "outputId": "37a76ac3-592d-4609-f66e-bb9990784540"
      },
      "execution_count": null,
      "outputs": [
        {
          "output_type": "execute_result",
          "data": {
            "text/plain": [
              "' This individual product is 19.99'"
            ],
            "application/vnd.google.colaboratory.intrinsic+json": {
              "type": "string"
            }
          },
          "metadata": {},
          "execution_count": 61
        }
      ]
    },
    {
      "cell_type": "code",
      "source": [
        "mag2 = f'The total for your purchasw is {price * items}'\n",
        "#creates a formatted string using f-string formatting. It calculates the total cost by multiplying the values of price and items and incorporates the result into the string.\n"
      ],
      "metadata": {
        "id": "Wwa0XR7kTWFc"
      },
      "execution_count": null,
      "outputs": []
    },
    {
      "cell_type": "code",
      "source": [],
      "metadata": {
        "id": "f5-3biZk83eL"
      },
      "execution_count": null,
      "outputs": []
    },
    {
      "cell_type": "code",
      "source": [
        "mag2\n",
        "# print the value of mag2"
      ],
      "metadata": {
        "colab": {
          "base_uri": "https://localhost:8080/",
          "height": 35
        },
        "id": "lVlhNPM-Tqay",
        "outputId": "8d57b32e-b374-4af0-bb33-dd048a816ecd"
      },
      "execution_count": null,
      "outputs": [
        {
          "output_type": "execute_result",
          "data": {
            "text/plain": [
              "'The total for your purchasw is 59.97'"
            ],
            "application/vnd.google.colaboratory.intrinsic+json": {
              "type": "string"
            }
          },
          "metadata": {},
          "execution_count": 69
        }
      ]
    },
    {
      "cell_type": "code",
      "source": [],
      "metadata": {
        "id": "ceG2sXP3TsUJ"
      },
      "execution_count": null,
      "outputs": []
    }
  ]
}