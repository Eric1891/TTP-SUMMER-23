{
  "nbformat": 4,
  "nbformat_minor": 0,
  "metadata": {
    "colab": {
      "provenance": [],
      "authorship_tag": "ABX9TyNzUir7Rovh6CLzy/CTZ25W",
      "include_colab_link": true
    },
    "kernelspec": {
      "name": "python3",
      "display_name": "Python 3"
    },
    "language_info": {
      "name": "python"
    }
  },
  "cells": [
    {
      "cell_type": "markdown",
      "metadata": {
        "id": "view-in-github",
        "colab_type": "text"
      },
      "source": [
        "<a href=\"https://colab.research.google.com/github/Eric1891/TTP-SUMMER-23/blob/main/Intro_to_Python.ipynb\" target=\"_parent\"><img src=\"https://colab.research.google.com/assets/colab-badge.svg\" alt=\"Open In Colab\"/></a>"
      ]
    },
    {
      "cell_type": "markdown",
      "source": [
        "#Python Basics"
      ],
      "metadata": {
        "id": "blutwJktHQNF"
      }
    },
    {
      "cell_type": "code",
      "source": [
        "print('Hi there')\n",
        "#using print() method to print \"hi there\" to the user."
      ],
      "metadata": {
        "colab": {
          "base_uri": "https://localhost:8080/"
        },
        "id": "M6aRp_uGIkMY",
        "outputId": "d7240402-5df0-4ee7-9f1d-ba6039a61e2d"
      },
      "execution_count": null,
      "outputs": [
        {
          "output_type": "stream",
          "name": "stdout",
          "text": [
            "Hi there\n"
          ]
        }
      ]
    },
    {
      "cell_type": "markdown",
      "source": [
        "##String & the print() function"
      ],
      "metadata": {
        "id": "hGEnB00DLSjw"
      }
    },
    {
      "cell_type": "code",
      "source": [
        "print (\"There are two types of slashes: \\\\ and /\")\n",
        "#using print() method to print \"There are two types of slashes\""
      ],
      "metadata": {
        "colab": {
          "base_uri": "https://localhost:8080/"
        },
        "id": "9n6rp5kHIkP1",
        "outputId": "c750f2b4-58f8-4db8-a458-053886496b78"
      },
      "execution_count": null,
      "outputs": [
        {
          "output_type": "stream",
          "name": "stdout",
          "text": [
            "There are two types of slashes: \\ and /\n"
          ]
        }
      ]
    },
    {
      "cell_type": "code",
      "source": [
        "print(\"\"\"\n",
        "       This is a tabbed line\n",
        "This is a regular line\n",
        "\"\"\")\n",
        "#this code snippet demonstrates the use of triple quotes to define\n",
        "# multiline strings and the output will show a tabbed line followed by a regular line"
      ],
      "metadata": {
        "colab": {
          "base_uri": "https://localhost:8080/"
        },
        "id": "UUGG0lPaIkTl",
        "outputId": "4cf0b048-df90-41a7-b4bd-742aef788657"
      },
      "execution_count": null,
      "outputs": [
        {
          "output_type": "stream",
          "name": "stdout",
          "text": [
            "\n",
            "       This is a tabbed line\n",
            "This is a regular line\n",
            "\n"
          ]
        }
      ]
    },
    {
      "cell_type": "code",
      "source": [
        "print(\"\\n\\tThis is a tabbed  line\\nThis is a regular line\")\n",
        "#using print function: \\n is used to represent a new line character\n",
        "#\\t is used to represnt a tab character"
      ],
      "metadata": {
        "colab": {
          "base_uri": "https://localhost:8080/"
        },
        "id": "DF1gtP7ZIkXA",
        "outputId": "14c21228-049a-437f-f2fe-4aae12660b69"
      },
      "execution_count": null,
      "outputs": [
        {
          "output_type": "stream",
          "name": "stdout",
          "text": [
            "\n",
            "\tThis is a tabbed  line\n",
            "This is a regular line\n"
          ]
        }
      ]
    },
    {
      "cell_type": "code",
      "source": [
        "print(\"first name\" + ' lase name')\n",
        "#the plus operator + is used to concatenate the two strings combing them into a\n",
        "#a single string."
      ],
      "metadata": {
        "colab": {
          "base_uri": "https://localhost:8080/"
        },
        "id": "tX494j9FIkZy",
        "outputId": "231e669a-b3ed-423a-ca46-9289c077f258"
      },
      "execution_count": null,
      "outputs": [
        {
          "output_type": "stream",
          "name": "stdout",
          "text": [
            "first name lase name\n"
          ]
        }
      ]
    },
    {
      "cell_type": "markdown",
      "source": [
        "##Variable"
      ],
      "metadata": {
        "id": "UtDKDW70IkcV"
      }
    },
    {
      "cell_type": "code",
      "source": [
        "dogs = 3\n",
        "cats = \"Mang fluffy cats\"\n",
        "# the line dogs = 3 assigns the value 3 to the variable dogs that means dogs hold the value 3.\n",
        "#cats=\"mang fluffy cats\" assigns the string \"Mang fluffy cats\" to the variable that means the\n",
        "#the variable hold the string \"Mang fluffy cats\"."
      ],
      "metadata": {
        "id": "IkbiZu-XIkfB"
      },
      "execution_count": null,
      "outputs": []
    },
    {
      "cell_type": "code",
      "source": [
        "dogs\n",
        "#variable dogs represent a value of 3"
      ],
      "metadata": {
        "colab": {
          "base_uri": "https://localhost:8080/"
        },
        "id": "fh8C6AO9Ikh5",
        "outputId": "25466009-79cb-47e0-c040-48b907c3c063"
      },
      "execution_count": null,
      "outputs": [
        {
          "output_type": "execute_result",
          "data": {
            "text/plain": [
              "3"
            ]
          },
          "metadata": {},
          "execution_count": 8
        }
      ]
    },
    {
      "cell_type": "code",
      "source": [
        "cats\n",
        "#variable cats represent a value of Mang fluffy cats"
      ],
      "metadata": {
        "colab": {
          "base_uri": "https://localhost:8080/",
          "height": 35
        },
        "id": "CrpnaVFKIkky",
        "outputId": "07fdaaed-75df-4b8f-ff29-e8c650ee946d"
      },
      "execution_count": null,
      "outputs": [
        {
          "output_type": "execute_result",
          "data": {
            "text/plain": [
              "'Mang fluffy cats'"
            ],
            "application/vnd.google.colaboratory.intrinsic+json": {
              "type": "string"
            }
          },
          "metadata": {},
          "execution_count": 9
        }
      ]
    },
    {
      "cell_type": "code",
      "source": [
        "type(dogs)\n",
        "#the variable dogs is assigned the value 3, which is integer, so the type() function is class int."
      ],
      "metadata": {
        "colab": {
          "base_uri": "https://localhost:8080/"
        },
        "id": "rZfmIo2NIkoI",
        "outputId": "c6eff739-8d2c-455b-c644-cc0c10fdaf99"
      },
      "execution_count": null,
      "outputs": [
        {
          "output_type": "execute_result",
          "data": {
            "text/plain": [
              "int"
            ]
          },
          "metadata": {},
          "execution_count": 10
        }
      ]
    },
    {
      "cell_type": "code",
      "source": [
        "type(cats)\n",
        "#the variable cats is assigned the value Mang fluffy cats, which is string, so the type() function is class str."
      ],
      "metadata": {
        "colab": {
          "base_uri": "https://localhost:8080/"
        },
        "id": "xMDBfCWuIksl",
        "outputId": "f54a5e54-8388-4727-c8c3-c84c862c55e5"
      },
      "execution_count": null,
      "outputs": [
        {
          "output_type": "execute_result",
          "data": {
            "text/plain": [
              "str"
            ]
          },
          "metadata": {},
          "execution_count": 11
        }
      ]
    },
    {
      "cell_type": "code",
      "source": [
        "hi = \"Hello \"\n",
        "name = \" John\"\n",
        "print(hi + name)\n",
        "#using print() function to concatenate the values of the hi and name variables.\n",
        "#the + operator is used to combin the strings."
      ],
      "metadata": {
        "colab": {
          "base_uri": "https://localhost:8080/"
        },
        "id": "fqeNLZkQIkwz",
        "outputId": "dcd03c03-cf7d-4cd3-8400-ba3f0ceaa942"
      },
      "execution_count": null,
      "outputs": [
        {
          "output_type": "stream",
          "name": "stdout",
          "text": [
            "Hello  John\n"
          ]
        }
      ]
    },
    {
      "cell_type": "code",
      "source": [
        "more_dogs= 5\n",
        "print(dogs + more_dogs)\n",
        "#there are two variables dogs and more_dogs. the print (dogs + more_dogs) + operator is used to\n",
        "#to perform addition between the two varibales."
      ],
      "metadata": {
        "colab": {
          "base_uri": "https://localhost:8080/"
        },
        "id": "ha16IgnMIk0O",
        "outputId": "20b4b055-6b2f-4b57-aea6-239437bdcb5b"
      },
      "execution_count": null,
      "outputs": [
        {
          "output_type": "stream",
          "name": "stdout",
          "text": [
            "8\n"
          ]
        }
      ]
    },
    {
      "cell_type": "code",
      "source": [
        "price = 19.99\n",
        "amount = 3\n",
        "##there are two variables  price and  amount.\n",
        "#the variable price is assigned the value 19.99\n",
        "#the variable item is assigned the value 3\n"
      ],
      "metadata": {
        "id": "FxgKsxnKIk3N"
      },
      "execution_count": null,
      "outputs": []
    },
    {
      "cell_type": "code",
      "source": [
        "print(price * amount)\n",
        "#to print function (price * amount), the values of these variable have to multiploication betwenn price and amount."
      ],
      "metadata": {
        "colab": {
          "base_uri": "https://localhost:8080/"
        },
        "id": "06hXrjEOIk-B",
        "outputId": "f93fb315-c14f-401e-f58f-810a5e784f6a"
      },
      "execution_count": null,
      "outputs": [
        {
          "output_type": "stream",
          "name": "stdout",
          "text": [
            "59.97\n"
          ]
        }
      ]
    },
    {
      "cell_type": "markdown",
      "source": [
        "# Vaiable re-assignment"
      ],
      "metadata": {
        "id": "aRBsPWY8AVJJ"
      }
    },
    {
      "cell_type": "code",
      "source": [
        "\n",
        "dogs = \"New Value\"\n",
        "#assign the string new value to the variable dogs and then print the variable dogs\n",
        "\n",
        "print(dogs)"
      ],
      "metadata": {
        "colab": {
          "base_uri": "https://localhost:8080/"
        },
        "id": "9A8azNjMIDSh",
        "outputId": "b5f487b0-62bb-4c39-82bf-00598a173f66"
      },
      "execution_count": null,
      "outputs": [
        {
          "output_type": "stream",
          "name": "stdout",
          "text": [
            "New Value\n"
          ]
        }
      ]
    },
    {
      "cell_type": "code",
      "source": [
        "cat, dogs, rabbits= 2, 5, \"cute\"\n",
        "\n",
        "print(dogs)\n",
        "#assigning values to multiple variables"
      ],
      "metadata": {
        "colab": {
          "base_uri": "https://localhost:8080/"
        },
        "id": "0xNaXd6SIDWZ",
        "outputId": "f8b8d7b1-ccb4-46f1-9001-ca8d2f2fd161"
      },
      "execution_count": null,
      "outputs": [
        {
          "output_type": "stream",
          "name": "stdout",
          "text": [
            "5\n"
          ]
        }
      ]
    },
    {
      "cell_type": "markdown",
      "source": [
        "##More Strings"
      ],
      "metadata": {
        "id": "dHdfxYV2IDaS"
      }
    },
    {
      "cell_type": "markdown",
      "source": [
        "### Indexing"
      ],
      "metadata": {
        "id": "CVtlYCqPIDdr"
      }
    },
    {
      "cell_type": "code",
      "source": [
        "greeting = \"Hello World!\"\n",
        "#the variable greeting hold string hello world"
      ],
      "metadata": {
        "id": "1mkw7fDLIDg9"
      },
      "execution_count": null,
      "outputs": []
    },
    {
      "cell_type": "code",
      "source": [
        "greeting\n",
        "#print the variable"
      ],
      "metadata": {
        "colab": {
          "base_uri": "https://localhost:8080/",
          "height": 35
        },
        "id": "fY3dMkvfIDj7",
        "outputId": "62bbc913-3c35-48f4-e538-7f786ceb7958"
      },
      "execution_count": null,
      "outputs": [
        {
          "output_type": "execute_result",
          "data": {
            "text/plain": [
              "'Hello World!'"
            ],
            "application/vnd.google.colaboratory.intrinsic+json": {
              "type": "string"
            }
          },
          "metadata": {},
          "execution_count": 19
        }
      ]
    },
    {
      "cell_type": "code",
      "source": [
        "print(greeting[4])\n",
        "#strings are zero-indexed, the first character of a string is at index0,so at index 4\n",
        "#of the string is  the letter o."
      ],
      "metadata": {
        "colab": {
          "base_uri": "https://localhost:8080/"
        },
        "id": "BuxbuH9cH19W",
        "outputId": "fcc23888-0d1b-4001-c463-a097b928bb4b"
      },
      "execution_count": null,
      "outputs": [
        {
          "output_type": "stream",
          "name": "stdout",
          "text": [
            "o\n"
          ]
        }
      ]
    },
    {
      "cell_type": "markdown",
      "source": [
        "# The 3rd, the 5th, and/or the 19th"
      ],
      "metadata": {
        "id": "Bll-thNbN3N7"
      }
    },
    {
      "cell_type": "code",
      "source": [
        "Today  = \"Today is Monday!\""
      ],
      "metadata": {
        "id": "PSf1GAnNN-2e"
      },
      "execution_count": null,
      "outputs": []
    },
    {
      "cell_type": "code",
      "source": [
        "Today"
      ],
      "metadata": {
        "colab": {
          "base_uri": "https://localhost:8080/",
          "height": 35
        },
        "id": "ZhQOHv0rN-6e",
        "outputId": "1db233f9-e1e0-4560-844b-c2b615e22642"
      },
      "execution_count": null,
      "outputs": [
        {
          "output_type": "execute_result",
          "data": {
            "text/plain": [
              "'Today is Monday!'"
            ],
            "application/vnd.google.colaboratory.intrinsic+json": {
              "type": "string"
            }
          },
          "metadata": {},
          "execution_count": 22
        }
      ]
    },
    {
      "cell_type": "code",
      "source": [
        "print(Today[6])\n",
        "print(Today[4])\n"
      ],
      "metadata": {
        "colab": {
          "base_uri": "https://localhost:8080/"
        },
        "id": "hjVNUh32N--8",
        "outputId": "4bc87a6e-7400-4041-bc23-fd4db5c62d90"
      },
      "execution_count": null,
      "outputs": [
        {
          "output_type": "stream",
          "name": "stdout",
          "text": [
            "i\n",
            "y\n"
          ]
        }
      ]
    },
    {
      "cell_type": "code",
      "source": [
        "print(Today[3])\n"
      ],
      "metadata": {
        "colab": {
          "base_uri": "https://localhost:8080/"
        },
        "id": "5NCbSL3ON_HL",
        "outputId": "4f410c3c-4603-420b-c9ab-f6d00934f4b8"
      },
      "execution_count": null,
      "outputs": [
        {
          "output_type": "stream",
          "name": "stdout",
          "text": [
            "a\n"
          ]
        }
      ]
    },
    {
      "cell_type": "markdown",
      "source": [
        "#String Formatting"
      ],
      "metadata": {
        "id": "XLRclXGfN_LV"
      }
    },
    {
      "cell_type": "code",
      "source": [
        "price = 59.99\n",
        "#the variable is price holds the value 59.99"
      ],
      "metadata": {
        "id": "GkQSSqfrN_PE"
      },
      "execution_count": null,
      "outputs": []
    },
    {
      "cell_type": "code",
      "source": [
        "message = \" The products costs \" + str(price) +  \" dollars\"\n",
        "#create a new variable message and the str(price) part converts the values of the price."
      ],
      "metadata": {
        "id": "L7WQ6tQeN_Tl"
      },
      "execution_count": null,
      "outputs": []
    },
    {
      "cell_type": "code",
      "source": [
        "message"
      ],
      "metadata": {
        "colab": {
          "base_uri": "https://localhost:8080/",
          "height": 35
        },
        "id": "E5U8lBoyN_XK",
        "outputId": "52981d4b-115e-4087-bfd4-aaffa2695352"
      },
      "execution_count": null,
      "outputs": [
        {
          "output_type": "execute_result",
          "data": {
            "text/plain": [
              "' The products costs 59.99 dollars'"
            ],
            "application/vnd.google.colaboratory.intrinsic+json": {
              "type": "string"
            }
          },
          "metadata": {},
          "execution_count": 27
        }
      ]
    },
    {
      "cell_type": "code",
      "source": [
        "msg = \" The priducts cost {} dollars\". format(price)\n",
        "#the variable msg using format() method to instrtt the value of the price variable into the string.\n",
        "#the curly braces{} as placeholds within the string. the format(price) part formats the string by\n",
        "#replacing the curly braces with the value of the price variable."
      ],
      "metadata": {
        "id": "gYqzDgIsN_bJ"
      },
      "execution_count": null,
      "outputs": []
    },
    {
      "cell_type": "code",
      "source": [
        "msg"
      ],
      "metadata": {
        "colab": {
          "base_uri": "https://localhost:8080/",
          "height": 35
        },
        "id": "zQyOPFCyN_hh",
        "outputId": "e23f0169-42ff-4d7f-bf93-74af9e2b1ddf"
      },
      "execution_count": null,
      "outputs": [
        {
          "output_type": "execute_result",
          "data": {
            "text/plain": [
              "' The priducts cost 59.99 dollars'"
            ],
            "application/vnd.google.colaboratory.intrinsic+json": {
              "type": "string"
            }
          },
          "metadata": {},
          "execution_count": 29
        }
      ]
    },
    {
      "cell_type": "code",
      "source": [
        "amount = 3\n",
        "total = amount * price\n",
        "#variable amount holds  value 3\n",
        "#var total holds amount * price"
      ],
      "metadata": {
        "id": "0mZcDwo5N_kx"
      },
      "execution_count": null,
      "outputs": []
    },
    {
      "cell_type": "code",
      "source": [
        "msg2= 'For {} products at the price OF {}, the total will be: {}'\n",
        "#the new var msg2 holds the 'For {} products at the price OF {}, the total will be: {}'\n",
        "#format() method string formatting"
      ],
      "metadata": {
        "id": "q9uzNTGIN_rI"
      },
      "execution_count": null,
      "outputs": []
    },
    {
      "cell_type": "code",
      "source": [
        "print(msg2.format(amount,price,total))\n",
        "#print(msg2.format(amount, price, total)) uses the format() method to insert the values of amount, price, and total into the placeholders in the msg2 string"
      ],
      "metadata": {
        "colab": {
          "base_uri": "https://localhost:8080/"
        },
        "id": "_IgVG99cRlOq",
        "outputId": "0ffc16b9-5d3a-485a-a4c8-1b242eb4cb76"
      },
      "execution_count": null,
      "outputs": [
        {
          "output_type": "stream",
          "name": "stdout",
          "text": [
            "For 3 products at the price OF 59.99, the total will be: 179.97\n"
          ]
        }
      ]
    },
    {
      "cell_type": "code",
      "source": [
        "msg3 ='For {2} products at the price OF {0}, the total will be: {1}'\n",
        "#defined a string variable msg3 with placeholds indicated by curly braces\n",
        "#using format() method,The first placeholder {0} is replaced with price, the second {1} with total, and the third {2} with amount"
      ],
      "metadata": {
        "id": "9wF084_zTDtA"
      },
      "execution_count": null,
      "outputs": []
    },
    {
      "cell_type": "code",
      "source": [
        "print(msg3.format(amount,price,total))\n",
        "#For {2} products at the price of {0}, the total will be: {1}', the positional indexes within the placeholders are {2}, {0}, and {1}.\n",
        "#The values are inserted into the placeholders based on their positional indexes. The first placeholder {2} is replaced with the value of\n",
        "#amount (which is 2), the second placeholder {0} is replaced with the value of price (which is 59.99), and the third placeholder {1} is replaced with the value of total\n"
      ],
      "metadata": {
        "colab": {
          "base_uri": "https://localhost:8080/"
        },
        "id": "0Uhlp7N_S3_p",
        "outputId": "307836f6-fa56-4147-a2ad-0c135283349f"
      },
      "execution_count": null,
      "outputs": [
        {
          "output_type": "stream",
          "name": "stdout",
          "text": [
            "For 179.97 products at the price OF 3, the total will be: 59.99\n"
          ]
        }
      ]
    },
    {
      "cell_type": "markdown",
      "source": [
        "####The 'f-String Method!"
      ],
      "metadata": {
        "id": "fa1qWH2PRwDB"
      }
    },
    {
      "cell_type": "code",
      "source": [
        "price = 19.99\n",
        "items = 3\n",
        "#set variable price hold value 19.99, variable items hold 3"
      ],
      "metadata": {
        "id": "qFEKkJAHSd5v"
      },
      "execution_count": null,
      "outputs": []
    },
    {
      "cell_type": "code",
      "source": [
        "msg = f' This individual product is {price}'\n",
        "#creates a formatted string using f-string formatting. It incorporates the value of the price variable into the string."
      ],
      "metadata": {
        "id": "xyh0t3SWSeHS"
      },
      "execution_count": null,
      "outputs": []
    },
    {
      "cell_type": "code",
      "source": [
        "msg\n",
        "#print the value of the msg variable"
      ],
      "metadata": {
        "colab": {
          "base_uri": "https://localhost:8080/",
          "height": 35
        },
        "id": "pE7hQI3hTU_1",
        "outputId": "901f33b6-f60c-4a2b-b4c7-16853d4a35fe"
      },
      "execution_count": null,
      "outputs": [
        {
          "output_type": "execute_result",
          "data": {
            "text/plain": [
              "' This individual product is 19.99'"
            ],
            "application/vnd.google.colaboratory.intrinsic+json": {
              "type": "string"
            }
          },
          "metadata": {},
          "execution_count": 37
        }
      ]
    },
    {
      "cell_type": "code",
      "source": [
        "mag2 = f'The total for your purchasw is {price * items}'\n",
        "#creates a formatted string using f-string formatting. It calculates the total cost by multiplying the values of price and items and incorporates the result into the string.\n"
      ],
      "metadata": {
        "id": "Wwa0XR7kTWFc"
      },
      "execution_count": null,
      "outputs": []
    },
    {
      "cell_type": "code",
      "source": [],
      "metadata": {
        "id": "f5-3biZk83eL"
      },
      "execution_count": null,
      "outputs": []
    },
    {
      "cell_type": "code",
      "source": [
        "mag2\n",
        "# print the value of mag2"
      ],
      "metadata": {
        "colab": {
          "base_uri": "https://localhost:8080/",
          "height": 35
        },
        "id": "lVlhNPM-Tqay",
        "outputId": "6315c3a5-7375-435b-aada-aa9071e8edab"
      },
      "execution_count": null,
      "outputs": [
        {
          "output_type": "execute_result",
          "data": {
            "text/plain": [
              "'The total for your purchasw is 59.97'"
            ],
            "application/vnd.google.colaboratory.intrinsic+json": {
              "type": "string"
            }
          },
          "metadata": {},
          "execution_count": 39
        }
      ]
    },
    {
      "cell_type": "markdown",
      "source": [
        "### String Function"
      ],
      "metadata": {
        "id": "ceG2sXP3TsUJ"
      }
    },
    {
      "cell_type": "code",
      "source": [
        "#str(),print(),len(),\n",
        "dir(msg)"
      ],
      "metadata": {
        "colab": {
          "base_uri": "https://localhost:8080/"
        },
        "id": "PHIEnou1I9-n",
        "outputId": "75a898aa-13a5-4ad3-e0a8-dbf1c96345b4"
      },
      "execution_count": null,
      "outputs": [
        {
          "output_type": "execute_result",
          "data": {
            "text/plain": [
              "['__add__',\n",
              " '__class__',\n",
              " '__contains__',\n",
              " '__delattr__',\n",
              " '__dir__',\n",
              " '__doc__',\n",
              " '__eq__',\n",
              " '__format__',\n",
              " '__ge__',\n",
              " '__getattribute__',\n",
              " '__getitem__',\n",
              " '__getnewargs__',\n",
              " '__gt__',\n",
              " '__hash__',\n",
              " '__init__',\n",
              " '__init_subclass__',\n",
              " '__iter__',\n",
              " '__le__',\n",
              " '__len__',\n",
              " '__lt__',\n",
              " '__mod__',\n",
              " '__mul__',\n",
              " '__ne__',\n",
              " '__new__',\n",
              " '__reduce__',\n",
              " '__reduce_ex__',\n",
              " '__repr__',\n",
              " '__rmod__',\n",
              " '__rmul__',\n",
              " '__setattr__',\n",
              " '__sizeof__',\n",
              " '__str__',\n",
              " '__subclasshook__',\n",
              " 'capitalize',\n",
              " 'casefold',\n",
              " 'center',\n",
              " 'count',\n",
              " 'encode',\n",
              " 'endswith',\n",
              " 'expandtabs',\n",
              " 'find',\n",
              " 'format',\n",
              " 'format_map',\n",
              " 'index',\n",
              " 'isalnum',\n",
              " 'isalpha',\n",
              " 'isascii',\n",
              " 'isdecimal',\n",
              " 'isdigit',\n",
              " 'isidentifier',\n",
              " 'islower',\n",
              " 'isnumeric',\n",
              " 'isprintable',\n",
              " 'isspace',\n",
              " 'istitle',\n",
              " 'isupper',\n",
              " 'join',\n",
              " 'ljust',\n",
              " 'lower',\n",
              " 'lstrip',\n",
              " 'maketrans',\n",
              " 'partition',\n",
              " 'removeprefix',\n",
              " 'removesuffix',\n",
              " 'replace',\n",
              " 'rfind',\n",
              " 'rindex',\n",
              " 'rjust',\n",
              " 'rpartition',\n",
              " 'rsplit',\n",
              " 'rstrip',\n",
              " 'split',\n",
              " 'splitlines',\n",
              " 'startswith',\n",
              " 'strip',\n",
              " 'swapcase',\n",
              " 'title',\n",
              " 'translate',\n",
              " 'upper',\n",
              " 'zfill']"
            ]
          },
          "metadata": {},
          "execution_count": 40
        }
      ]
    },
    {
      "cell_type": "code",
      "source": [
        "msg"
      ],
      "metadata": {
        "colab": {
          "base_uri": "https://localhost:8080/",
          "height": 35
        },
        "id": "-5TmzedYI-D9",
        "outputId": "5583c615-55d5-4a05-8fca-3c24126f6f51"
      },
      "execution_count": null,
      "outputs": [
        {
          "output_type": "execute_result",
          "data": {
            "text/plain": [
              "' This individual product is 19.99'"
            ],
            "application/vnd.google.colaboratory.intrinsic+json": {
              "type": "string"
            }
          },
          "metadata": {},
          "execution_count": 41
        }
      ]
    },
    {
      "cell_type": "code",
      "source": [
        "msg = 'Hello my name is Bob'"
      ],
      "metadata": {
        "id": "o2EZzTRgI-H6"
      },
      "execution_count": null,
      "outputs": []
    },
    {
      "cell_type": "code",
      "source": [
        "words = msg.split(' ')"
      ],
      "metadata": {
        "id": "QLEtgSnjI-Ld"
      },
      "execution_count": null,
      "outputs": []
    },
    {
      "cell_type": "code",
      "source": [
        "print(words)"
      ],
      "metadata": {
        "colab": {
          "base_uri": "https://localhost:8080/"
        },
        "id": "Ehyu_gCzI-Ow",
        "outputId": "8a35c08a-1213-46ba-b01f-9a8f366e82ef"
      },
      "execution_count": null,
      "outputs": [
        {
          "output_type": "stream",
          "name": "stdout",
          "text": [
            "['Hello', 'my', 'name', 'is', 'Bob']\n"
          ]
        }
      ]
    },
    {
      "cell_type": "code",
      "source": [
        "elements = msg.split('e')"
      ],
      "metadata": {
        "id": "1_xkqAVMI-R3"
      },
      "execution_count": null,
      "outputs": []
    },
    {
      "cell_type": "code",
      "source": [
        "print(elements)"
      ],
      "metadata": {
        "colab": {
          "base_uri": "https://localhost:8080/"
        },
        "id": "WBmWQHN6I-Vf",
        "outputId": "6e5551c7-c835-402c-b9cf-2f9544687c75"
      },
      "execution_count": null,
      "outputs": [
        {
          "output_type": "stream",
          "name": "stdout",
          "text": [
            "['H', 'llo my nam', ' is Bob']\n"
          ]
        }
      ]
    },
    {
      "cell_type": "code",
      "source": [
        "print(msg.upper())"
      ],
      "metadata": {
        "colab": {
          "base_uri": "https://localhost:8080/"
        },
        "id": "LXFicNxwI-Zs",
        "outputId": "f252fe61-5179-434c-f8f3-f90ae5f908e5"
      },
      "execution_count": null,
      "outputs": [
        {
          "output_type": "stream",
          "name": "stdout",
          "text": [
            "HELLO MY NAME IS BOB\n"
          ]
        }
      ]
    },
    {
      "cell_type": "code",
      "source": [
        "print(msg.lower())"
      ],
      "metadata": {
        "colab": {
          "base_uri": "https://localhost:8080/"
        },
        "id": "vGoJLZZDI-dR",
        "outputId": "24304676-38d8-46fa-f8fe-68ed57971d07"
      },
      "execution_count": null,
      "outputs": [
        {
          "output_type": "stream",
          "name": "stdout",
          "text": [
            "hello my name is bob\n"
          ]
        }
      ]
    },
    {
      "cell_type": "markdown",
      "source": [
        " ## input() method"
      ],
      "metadata": {
        "id": "wkq96VjmI-gq"
      }
    },
    {
      "cell_type": "code",
      "source": [
        "data = input('What is your  name: ')\n",
        "print (f'Hello {data}, hope your day is great!')"
      ],
      "metadata": {
        "colab": {
          "base_uri": "https://localhost:8080/"
        },
        "id": "r79fO3NmKrNV",
        "outputId": "b5646237-d1a7-4ca0-b833-fc9f456bb5f0"
      },
      "execution_count": null,
      "outputs": [
        {
          "output_type": "stream",
          "name": "stdout",
          "text": [
            "What is your  name: Jen\n",
            "Hello Jen, hope your day is great!\n"
          ]
        }
      ]
    },
    {
      "cell_type": "code",
      "source": [
        "print(data)"
      ],
      "metadata": {
        "colab": {
          "base_uri": "https://localhost:8080/"
        },
        "id": "_GXFvtGvKrQy",
        "outputId": "4ae07106-cab9-4f87-8f8e-751a1fa41f7b"
      },
      "execution_count": null,
      "outputs": [
        {
          "output_type": "stream",
          "name": "stdout",
          "text": [
            "Bob\n"
          ]
        }
      ]
    },
    {
      "cell_type": "code",
      "source": [
        "num = input('enter a number: ')\n",
        "print(num)"
      ],
      "metadata": {
        "colab": {
          "base_uri": "https://localhost:8080/"
        },
        "id": "APIV698-KrUk",
        "outputId": "c59dc2d0-6b7f-4ea4-830a-4e0c172ba83e"
      },
      "execution_count": null,
      "outputs": [
        {
          "output_type": "stream",
          "name": "stdout",
          "text": [
            "enter a number: 2\n",
            "2\n"
          ]
        }
      ]
    },
    {
      "cell_type": "code",
      "source": [
        "type(num)"
      ],
      "metadata": {
        "colab": {
          "base_uri": "https://localhost:8080/"
        },
        "id": "_oN0QqeWKrYc",
        "outputId": "184722c0-cf3f-4574-b618-76698269536f"
      },
      "execution_count": null,
      "outputs": [
        {
          "output_type": "execute_result",
          "data": {
            "text/plain": [
              "str"
            ]
          },
          "metadata": {},
          "execution_count": 59
        }
      ]
    },
    {
      "cell_type": "code",
      "source": [
        "num = int(input('enter a number: '))\n",
        "print(num)"
      ],
      "metadata": {
        "colab": {
          "base_uri": "https://localhost:8080/"
        },
        "id": "piWoPA6NKrci",
        "outputId": "a86507eb-3c7f-42f7-ef99-2203503abd58"
      },
      "execution_count": null,
      "outputs": [
        {
          "output_type": "stream",
          "name": "stdout",
          "text": [
            "enter a number: 2\n",
            "2\n"
          ]
        }
      ]
    },
    {
      "cell_type": "code",
      "source": [
        "type(num)"
      ],
      "metadata": {
        "colab": {
          "base_uri": "https://localhost:8080/"
        },
        "id": "IJEbYAByKrgZ",
        "outputId": "8d5f6c7e-6447-4928-ef69-95925d550c52"
      },
      "execution_count": null,
      "outputs": [
        {
          "output_type": "execute_result",
          "data": {
            "text/plain": [
              "int"
            ]
          },
          "metadata": {},
          "execution_count": 61
        }
      ]
    },
    {
      "cell_type": "code",
      "source": [
        "fullname = input('First name: ') + input('Last name:  ')\n",
        "print(fullname)\n",
        "age=int(input('Enter you age: '))\n",
        "address=input('Enter address: ')\n",
        "print (f'Hello {fullname},your age {age},you live in {address}')"
      ],
      "metadata": {
        "colab": {
          "base_uri": "https://localhost:8080/"
        },
        "id": "jTjexmvBKrke",
        "outputId": "e1f64c8d-c9d0-48c3-b572-b90cdda36408"
      },
      "execution_count": null,
      "outputs": [
        {
          "output_type": "stream",
          "name": "stdout",
          "text": [
            "First name: LI\n",
            "Last name:  LI\n",
            "LILI\n",
            "Enter you age: 23\n",
            "Enter address: EE\n",
            "Hello LILI,your age 23,you live in EE\n"
          ]
        }
      ]
    },
    {
      "cell_type": "code",
      "source": [
        "print (f'Hello {fullname},your age {age},you live in {address}')"
      ],
      "metadata": {
        "colab": {
          "base_uri": "https://localhost:8080/"
        },
        "id": "sMTs69F8Kro4",
        "outputId": "0619d8bc-a807-495a-8790-ba0a9c51ab70"
      },
      "execution_count": null,
      "outputs": [
        {
          "output_type": "stream",
          "name": "stdout",
          "text": [
            "Hello lili,your age 23,you live in Mantattan\n"
          ]
        }
      ]
    },
    {
      "cell_type": "code",
      "source": [],
      "metadata": {
        "id": "fB9TZGb3XqWh"
      },
      "execution_count": null,
      "outputs": []
    },
    {
      "cell_type": "markdown",
      "source": [
        "##Numbers\n",
        "\n"
      ],
      "metadata": {
        "id": "zQr0xAGFKrsd"
      }
    },
    {
      "cell_type": "code",
      "source": [
        "cats =7\n",
        "money= -35.5\n",
        "x=2+5j\n",
        "message=\"hello Alice!\"\n"
      ],
      "metadata": {
        "id": "TZvnfnydKrzP"
      },
      "execution_count": null,
      "outputs": []
    },
    {
      "cell_type": "code",
      "source": [
        "\n",
        "print(type(cats))\n",
        "print(type(money))\n",
        "print(type(x))\n",
        "print(type(message))"
      ],
      "metadata": {
        "colab": {
          "base_uri": "https://localhost:8080/"
        },
        "id": "3Zjkj8gNKr3W",
        "outputId": "636adad8-7411-4246-dedf-27363d7b3098"
      },
      "execution_count": null,
      "outputs": [
        {
          "output_type": "stream",
          "name": "stdout",
          "text": [
            "<class 'int'>\n",
            "<class 'float'>\n",
            "<class 'complex'>\n",
            "<class 'str'>\n"
          ]
        }
      ]
    },
    {
      "cell_type": "code",
      "source": [
        "shoes = 5\n",
        "print(f\"I own {shoes} pairs of shoes\")\n",
        "print(type(shoes))"
      ],
      "metadata": {
        "id": "dqyVeo-RCWsb"
      },
      "execution_count": null,
      "outputs": []
    },
    {
      "cell_type": "code",
      "source": [
        "rate = 3/2\n",
        "print(f\"I can complete {rate} projects per month\")\n",
        "print(type(rate))"
      ],
      "metadata": {
        "id": "UMpXD7LQCY-v"
      },
      "execution_count": null,
      "outputs": []
    },
    {
      "cell_type": "code",
      "source": [
        "a = 6\n",
        "b = 2.5\n",
        "print(f\"{a} * {b} = {a * b}\")\n",
        "print(type(a * b))"
      ],
      "metadata": {
        "id": "mG6T5odzCbda"
      },
      "execution_count": null,
      "outputs": []
    },
    {
      "cell_type": "markdown",
      "source": [
        "###Conversions\n"
      ],
      "metadata": {
        "id": "vNFDmQGiKr9h"
      }
    },
    {
      "cell_type": "code",
      "source": [
        "value=3.8\n",
        "convert =int(value)\n",
        "print(convert)\n",
        "print(type(convert))"
      ],
      "metadata": {
        "colab": {
          "base_uri": "https://localhost:8080/"
        },
        "id": "p19BZk4DKsBU",
        "outputId": "e03927e0-69c0-4689-f673-7ba4eec26ee4"
      },
      "execution_count": null,
      "outputs": [
        {
          "output_type": "stream",
          "name": "stdout",
          "text": [
            "3\n",
            "<class 'int'>\n"
          ]
        }
      ]
    },
    {
      "cell_type": "code",
      "source": [
        "number= int(\"25\")\n",
        "print(number)\n",
        "print(type(number))"
      ],
      "metadata": {
        "colab": {
          "base_uri": "https://localhost:8080/"
        },
        "id": "Lkb8EJgxI-k1",
        "outputId": "ed939283-6e9c-4017-daf5-fd3a9f6ca717"
      },
      "execution_count": null,
      "outputs": [
        {
          "output_type": "stream",
          "name": "stdout",
          "text": [
            "25\n",
            "<class 'int'>\n"
          ]
        }
      ]
    },
    {
      "cell_type": "code",
      "source": [
        "num2 = 'twenty'\n",
        "print(len(num2))"
      ],
      "metadata": {
        "id": "PdASFoV2I-os",
        "colab": {
          "base_uri": "https://localhost:8080/"
        },
        "outputId": "cf1c99c8-a5a2-4530-fde3-4d09a60b7a4e"
      },
      "execution_count": 1,
      "outputs": [
        {
          "output_type": "stream",
          "name": "stdout",
          "text": [
            "6\n"
          ]
        }
      ]
    },
    {
      "cell_type": "code",
      "source": [
        "value = 78\n",
        "convert = float(value)\n",
        "print(convert)\n",
        "print(type(convert))\n",
        "convert = float(\"56.48\")\n",
        "print(convert)\n",
        "print(type(convert))"
      ],
      "metadata": {
        "id": "JTzjuzkAYn0o",
        "colab": {
          "base_uri": "https://localhost:8080/"
        },
        "outputId": "c9e79b7b-8452-4731-fe62-8333c1ea40b9"
      },
      "execution_count": 2,
      "outputs": [
        {
          "output_type": "stream",
          "name": "stdout",
          "text": [
            "78.0\n",
            "<class 'float'>\n",
            "56.48\n",
            "<class 'float'>\n"
          ]
        }
      ]
    },
    {
      "cell_type": "code",
      "source": [
        "value = 38\n",
        "convert = complex(value)\n",
        "print(convert)\n",
        "print(type(convert))"
      ],
      "metadata": {
        "colab": {
          "base_uri": "https://localhost:8080/"
        },
        "id": "6z6XTkGRCrXS",
        "outputId": "7583ba8c-4527-4e2d-ab8a-48bba11100ce"
      },
      "execution_count": 3,
      "outputs": [
        {
          "output_type": "stream",
          "name": "stdout",
          "text": [
            "(38+0j)\n",
            "<class 'complex'>\n"
          ]
        }
      ]
    },
    {
      "cell_type": "code",
      "source": [
        "value = 28.4875\n",
        "convert = str(value)\n",
        "print(convert)\n",
        "print(type(convert))"
      ],
      "metadata": {
        "colab": {
          "base_uri": "https://localhost:8080/"
        },
        "id": "9829y7BrCwcr",
        "outputId": "26288313-c36d-41fb-e6c5-3a36fe2b4138"
      },
      "execution_count": 4,
      "outputs": [
        {
          "output_type": "stream",
          "name": "stdout",
          "text": [
            "28.4875\n",
            "<class 'str'>\n"
          ]
        }
      ]
    },
    {
      "cell_type": "code",
      "source": [
        "# value = '5j'\n",
        "# convert = int(value)\n",
        "# print(convert)\n"
      ],
      "metadata": {
        "id": "MYXZuwtFC0hT"
      },
      "execution_count": null,
      "outputs": []
    },
    {
      "cell_type": "code",
      "source": [
        "data = input(\"Please enter a value: \")\n",
        "print(int(data))\n",
        "print(float(data))\n",
        "print(complex(data))\n",
        "print(str(data))"
      ],
      "metadata": {
        "colab": {
          "base_uri": "https://localhost:8080/"
        },
        "id": "pYoT4R2-C0sv",
        "outputId": "3adb2687-7638-4444-b753-1e042af95834"
      },
      "execution_count": 5,
      "outputs": [
        {
          "output_type": "stream",
          "name": "stdout",
          "text": [
            "Please enter a value: 42\n",
            "42\n",
            "42.0\n",
            "(42+0j)\n",
            "42\n"
          ]
        }
      ]
    },
    {
      "cell_type": "code",
      "source": [
        "pi = 3.14159\n",
        "print(type(pi))\n",
        "print(int(pi))\n",
        "print(complex(pi))\n",
        "print(str(pi))"
      ],
      "metadata": {
        "colab": {
          "base_uri": "https://localhost:8080/"
        },
        "id": "Sw-uJYTuC8tv",
        "outputId": "721057b4-4ba8-4ad2-986a-a687ad12e7b5"
      },
      "execution_count": 6,
      "outputs": [
        {
          "output_type": "stream",
          "name": "stdout",
          "text": [
            "<class 'float'>\n",
            "3\n",
            "(3.14159+0j)\n",
            "3.14159\n"
          ]
        }
      ]
    },
    {
      "cell_type": "markdown",
      "source": [
        "###Operation"
      ],
      "metadata": {
        "id": "H5kKaZBKYn5X"
      }
    },
    {
      "cell_type": "code",
      "source": [],
      "metadata": {
        "id": "UI5KdI2oC62v"
      },
      "execution_count": null,
      "outputs": []
    },
    {
      "cell_type": "code",
      "source": [],
      "metadata": {
        "id": "fzhknGFNC72D"
      },
      "execution_count": null,
      "outputs": []
    },
    {
      "cell_type": "code",
      "source": [],
      "metadata": {
        "id": "9ru8kLTRCtZV"
      },
      "execution_count": null,
      "outputs": []
    },
    {
      "cell_type": "markdown",
      "source": [
        "#### The Modulus  operator"
      ],
      "metadata": {
        "id": "6aZH2_CeYn9a"
      }
    },
    {
      "cell_type": "code",
      "source": [
        "print(259 / 4)"
      ],
      "metadata": {
        "colab": {
          "base_uri": "https://localhost:8080/"
        },
        "id": "gBdtJdRGYoBh",
        "outputId": "5c1191a5-f5d1-44fd-d25e-2cf081ff28ef"
      },
      "execution_count": null,
      "outputs": [
        {
          "output_type": "stream",
          "name": "stdout",
          "text": [
            "64.75\n"
          ]
        }
      ]
    },
    {
      "cell_type": "code",
      "source": [
        "print(259 % 4)"
      ],
      "metadata": {
        "colab": {
          "base_uri": "https://localhost:8080/"
        },
        "id": "uA9HgPLJYoF8",
        "outputId": "4fcdd5eb-5dba-4fc7-d429-d9f696b70de1"
      },
      "execution_count": null,
      "outputs": [
        {
          "output_type": "stream",
          "name": "stdout",
          "text": [
            "3\n"
          ]
        }
      ]
    },
    {
      "cell_type": "markdown",
      "source": [
        "####The Power Operator"
      ],
      "metadata": {
        "id": "IprGPp_BYoMY"
      }
    },
    {
      "cell_type": "code",
      "source": [
        "print(9 ** 4)"
      ],
      "metadata": {
        "colab": {
          "base_uri": "https://localhost:8080/"
        },
        "id": "DxVBGYSaYoRm",
        "outputId": "5d2b4fb6-3eb6-4b2a-f103-f2825204d357"
      },
      "execution_count": null,
      "outputs": [
        {
          "output_type": "stream",
          "name": "stdout",
          "text": [
            "6561\n"
          ]
        }
      ]
    },
    {
      "cell_type": "code",
      "source": [
        "2**2\n"
      ],
      "metadata": {
        "colab": {
          "base_uri": "https://localhost:8080/"
        },
        "id": "NteDemdbYoWY",
        "outputId": "73cc100c-eeba-4d42-bbaa-ec0aab1197c5"
      },
      "execution_count": null,
      "outputs": [
        {
          "output_type": "execute_result",
          "data": {
            "text/plain": [
              "4"
            ]
          },
          "metadata": {},
          "execution_count": 84
        }
      ]
    },
    {
      "cell_type": "markdown",
      "source": [
        "####The floor Operator"
      ],
      "metadata": {
        "id": "bF8tIXb1I-sz"
      }
    },
    {
      "cell_type": "code",
      "source": [
        "print (9 // 4)"
      ],
      "metadata": {
        "colab": {
          "base_uri": "https://localhost:8080/"
        },
        "id": "MpFMMgGAauNm",
        "outputId": "e0059b6c-2bf8-4ee1-edd9-3be7872e3e42"
      },
      "execution_count": null,
      "outputs": [
        {
          "output_type": "stream",
          "name": "stdout",
          "text": [
            "2\n"
          ]
        }
      ]
    },
    {
      "cell_type": "markdown",
      "source": [
        "#### The Assignment Operator"
      ],
      "metadata": {
        "id": "MGZ_uSjfauS0"
      }
    },
    {
      "cell_type": "code",
      "source": [
        "x =  9\n",
        "print(x)\n",
        "x  +=4\n",
        "print(x)\n",
        "x  -=4\n",
        "print(x)\n",
        "x  *=4\n",
        "print(x)\n",
        "x  /=4\n",
        "print(x)"
      ],
      "metadata": {
        "colab": {
          "base_uri": "https://localhost:8080/"
        },
        "id": "DKLKI3avaud6",
        "outputId": "3d74bb9e-cde8-454f-9f01-ec8c0d441309"
      },
      "execution_count": null,
      "outputs": [
        {
          "output_type": "stream",
          "name": "stdout",
          "text": [
            "9\n",
            "13\n",
            "9\n",
            "36\n",
            "9.0\n"
          ]
        }
      ]
    },
    {
      "cell_type": "code",
      "source": [
        "num1=int(input('enter a numer'))\n",
        "num2=int(input('enter a numer'))\n",
        "Multiplication=(num1*num2)\n",
        "Division=(num1/num2)\n",
        "Addition=(num1+num2)\n",
        "Diff=(num1-num2)\n",
        "\n",
        "\n",
        "print(f'Multiplication: {Multiplication}')\n",
        "print(f'Division: {Division}')\n",
        "print(f' Addition: {Addition} ')\n",
        "print(f'Diff: {Diff} ')\n",
        "\n"
      ],
      "metadata": {
        "colab": {
          "base_uri": "https://localhost:8080/"
        },
        "id": "9zoQxGuZaui-",
        "outputId": "72ce7c17-867a-423b-d183-c805c7827781"
      },
      "execution_count": null,
      "outputs": [
        {
          "output_type": "stream",
          "name": "stdout",
          "text": [
            "enter a numer8\n",
            "enter a numer7\n",
            "Multiplication: 56\n",
            "Division: 1.1428571428571428\n",
            " Addition: 15 \n",
            "Diff: 1 \n"
          ]
        }
      ]
    },
    {
      "cell_type": "code",
      "source": [],
      "metadata": {
        "id": "AuRkPcRzaurK"
      },
      "execution_count": null,
      "outputs": []
    },
    {
      "cell_type": "code",
      "source": [],
      "metadata": {
        "id": "TlmaOIqCauwM"
      },
      "execution_count": null,
      "outputs": []
    },
    {
      "cell_type": "code",
      "source": [],
      "metadata": {
        "id": "n3U-fO79ap--"
      },
      "execution_count": null,
      "outputs": []
    }
  ]
}