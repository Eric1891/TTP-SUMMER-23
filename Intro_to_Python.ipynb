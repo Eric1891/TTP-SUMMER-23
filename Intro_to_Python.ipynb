{
  "nbformat": 4,
  "nbformat_minor": 0,
  "metadata": {
    "colab": {
      "provenance": [],
      "collapsed_sections": [
        "hGEnB00DLSjw",
        "UtDKDW70IkcV",
        "CVtlYCqPIDdr",
        "Bll-thNbN3N7"
      ],
      "authorship_tag": "ABX9TyNYWiRpI4DQ59KWa1mdiJPY",
      "include_colab_link": true
    },
    "kernelspec": {
      "name": "python3",
      "display_name": "Python 3"
    },
    "language_info": {
      "name": "python"
    }
  },
  "cells": [
    {
      "cell_type": "markdown",
      "metadata": {
        "id": "view-in-github",
        "colab_type": "text"
      },
      "source": [
        "<a href=\"https://colab.research.google.com/github/Eric1891/TTP-SUMMER-23/blob/main/Intro_to_Python.ipynb\" target=\"_parent\"><img src=\"https://colab.research.google.com/assets/colab-badge.svg\" alt=\"Open In Colab\"/></a>"
      ]
    },
    {
      "cell_type": "markdown",
      "source": [
        "#Python Basics"
      ],
      "metadata": {
        "id": "blutwJktHQNF"
      }
    },
    {
      "cell_type": "code",
      "source": [
        "print('Hi there')"
      ],
      "metadata": {
        "colab": {
          "base_uri": "https://localhost:8080/"
        },
        "id": "M6aRp_uGIkMY",
        "outputId": "7371a7dc-2068-4533-e8eb-3ddb6ede7fc4"
      },
      "execution_count": 6,
      "outputs": [
        {
          "output_type": "stream",
          "name": "stdout",
          "text": [
            "Hi there\n"
          ]
        }
      ]
    },
    {
      "cell_type": "markdown",
      "source": [
        "##String & the print() function"
      ],
      "metadata": {
        "id": "hGEnB00DLSjw"
      }
    },
    {
      "cell_type": "code",
      "source": [
        "Print(\"There are two types of slashes: \\\\ and /\")"
      ],
      "metadata": {
        "colab": {
          "base_uri": "https://localhost:8080/",
          "height": 164
        },
        "id": "9n6rp5kHIkP1",
        "outputId": "9c7653c5-ba01-459c-e824-86b8c255dd08"
      },
      "execution_count": 7,
      "outputs": [
        {
          "output_type": "error",
          "ename": "NameError",
          "evalue": "ignored",
          "traceback": [
            "\u001b[0;31m---------------------------------------------------------------------------\u001b[0m",
            "\u001b[0;31mNameError\u001b[0m                                 Traceback (most recent call last)",
            "\u001b[0;32m<ipython-input-7-729ad322d854>\u001b[0m in \u001b[0;36m<cell line: 1>\u001b[0;34m()\u001b[0m\n\u001b[0;32m----> 1\u001b[0;31m \u001b[0mPrint\u001b[0m\u001b[0;34m(\u001b[0m\u001b[0;34m\"There are two types of slashes: \\\\ and /\"\u001b[0m\u001b[0;34m)\u001b[0m\u001b[0;34m\u001b[0m\u001b[0;34m\u001b[0m\u001b[0m\n\u001b[0m",
            "\u001b[0;31mNameError\u001b[0m: name 'Print' is not defined"
          ]
        }
      ]
    },
    {
      "cell_type": "code",
      "source": [
        "print(\"\"\"\n",
        "       This is a tabbed line \n",
        "This is a regular line\n",
        "\"\"\")"
      ],
      "metadata": {
        "colab": {
          "base_uri": "https://localhost:8080/"
        },
        "id": "UUGG0lPaIkTl",
        "outputId": "302f388e-594b-49da-9e89-81c243b8a819"
      },
      "execution_count": 3,
      "outputs": [
        {
          "output_type": "stream",
          "name": "stdout",
          "text": [
            "\n",
            "       This is a tabbed line \n",
            "This is a regular line\n",
            "\n"
          ]
        }
      ]
    },
    {
      "cell_type": "code",
      "source": [
        "print(\"\\n\\tThis is a tabbed  line\\nThis is a regular line\")"
      ],
      "metadata": {
        "colab": {
          "base_uri": "https://localhost:8080/"
        },
        "id": "DF1gtP7ZIkXA",
        "outputId": "d61819dc-f202-40f5-9960-27844f749f8a"
      },
      "execution_count": 8,
      "outputs": [
        {
          "output_type": "stream",
          "name": "stdout",
          "text": [
            "\n",
            "\tThis is a tabbed  line\n",
            "This is a regular line\n"
          ]
        }
      ]
    },
    {
      "cell_type": "code",
      "source": [
        "print(\"first name\" + ' lase name')"
      ],
      "metadata": {
        "colab": {
          "base_uri": "https://localhost:8080/"
        },
        "id": "tX494j9FIkZy",
        "outputId": "9d715123-c68f-4731-cbe1-62f2170a198f"
      },
      "execution_count": 1,
      "outputs": [
        {
          "output_type": "stream",
          "name": "stdout",
          "text": [
            "first name lase name\n"
          ]
        }
      ]
    },
    {
      "cell_type": "markdown",
      "source": [
        "##Variable"
      ],
      "metadata": {
        "id": "UtDKDW70IkcV"
      }
    },
    {
      "cell_type": "code",
      "source": [
        "dogs = 3 \n",
        "cats = \"Mang fluffy cats\""
      ],
      "metadata": {
        "id": "IkbiZu-XIkfB"
      },
      "execution_count": 9,
      "outputs": []
    },
    {
      "cell_type": "code",
      "source": [
        "dogs"
      ],
      "metadata": {
        "colab": {
          "base_uri": "https://localhost:8080/"
        },
        "id": "fh8C6AO9Ikh5",
        "outputId": "026ce61d-b3bb-4670-cae4-001da5bb32f1"
      },
      "execution_count": 10,
      "outputs": [
        {
          "output_type": "execute_result",
          "data": {
            "text/plain": [
              "3"
            ]
          },
          "metadata": {},
          "execution_count": 10
        }
      ]
    },
    {
      "cell_type": "code",
      "source": [
        "cats"
      ],
      "metadata": {
        "colab": {
          "base_uri": "https://localhost:8080/",
          "height": 35
        },
        "id": "CrpnaVFKIkky",
        "outputId": "f866b47f-23e7-45ce-b9c0-1774ed5f988f"
      },
      "execution_count": 11,
      "outputs": [
        {
          "output_type": "execute_result",
          "data": {
            "text/plain": [
              "'Mang fluffy cats'"
            ],
            "application/vnd.google.colaboratory.intrinsic+json": {
              "type": "string"
            }
          },
          "metadata": {},
          "execution_count": 11
        }
      ]
    },
    {
      "cell_type": "code",
      "source": [
        "type(dogs)"
      ],
      "metadata": {
        "colab": {
          "base_uri": "https://localhost:8080/"
        },
        "id": "rZfmIo2NIkoI",
        "outputId": "1d729a68-e8e6-42b4-cfbe-d10015bc5a78"
      },
      "execution_count": 13,
      "outputs": [
        {
          "output_type": "execute_result",
          "data": {
            "text/plain": [
              "int"
            ]
          },
          "metadata": {},
          "execution_count": 13
        }
      ]
    },
    {
      "cell_type": "code",
      "source": [
        "type(cats)"
      ],
      "metadata": {
        "colab": {
          "base_uri": "https://localhost:8080/"
        },
        "id": "xMDBfCWuIksl",
        "outputId": "febf74e1-1831-4112-a945-8cd1723bcbf1"
      },
      "execution_count": 14,
      "outputs": [
        {
          "output_type": "execute_result",
          "data": {
            "text/plain": [
              "str"
            ]
          },
          "metadata": {},
          "execution_count": 14
        }
      ]
    },
    {
      "cell_type": "code",
      "source": [
        "hi = \"Hello \"\n",
        "name = \" John\"\n",
        "print(hi + name)"
      ],
      "metadata": {
        "colab": {
          "base_uri": "https://localhost:8080/"
        },
        "id": "fqeNLZkQIkwz",
        "outputId": "55a499ef-33d7-40ee-b5d5-ec14a8786bda"
      },
      "execution_count": 15,
      "outputs": [
        {
          "output_type": "stream",
          "name": "stdout",
          "text": [
            "Hello  John\n"
          ]
        }
      ]
    },
    {
      "cell_type": "code",
      "source": [
        "more_dogs= 5\n",
        "print(dogs + more_dogs)"
      ],
      "metadata": {
        "colab": {
          "base_uri": "https://localhost:8080/"
        },
        "id": "ha16IgnMIk0O",
        "outputId": "f6b0b587-eb0d-4d05-f3d9-a14b6a3e9330"
      },
      "execution_count": 16,
      "outputs": [
        {
          "output_type": "stream",
          "name": "stdout",
          "text": [
            "8\n"
          ]
        }
      ]
    },
    {
      "cell_type": "code",
      "source": [
        "price = 19.99\n",
        "amount = 3"
      ],
      "metadata": {
        "id": "FxgKsxnKIk3N"
      },
      "execution_count": 21,
      "outputs": []
    },
    {
      "cell_type": "code",
      "source": [
        "print(price * amount)"
      ],
      "metadata": {
        "colab": {
          "base_uri": "https://localhost:8080/"
        },
        "id": "06hXrjEOIk-B",
        "outputId": "3b1f7037-a467-4910-ad50-1c6bd031bdaa"
      },
      "execution_count": 22,
      "outputs": [
        {
          "output_type": "stream",
          "name": "stdout",
          "text": [
            "59.97\n"
          ]
        }
      ]
    },
    {
      "cell_type": "code",
      "source": [
        "# Vaiable re-assignment\n",
        "dogs = \"New Value\"\n",
        "\n",
        "print(dogs)"
      ],
      "metadata": {
        "colab": {
          "base_uri": "https://localhost:8080/"
        },
        "id": "9A8azNjMIDSh",
        "outputId": "9d4cbe91-f850-45dd-80f0-aff84f0b4eba"
      },
      "execution_count": 23,
      "outputs": [
        {
          "output_type": "stream",
          "name": "stdout",
          "text": [
            "New Value\n"
          ]
        }
      ]
    },
    {
      "cell_type": "code",
      "source": [
        "cat, dogs, rabbits= 2, 5, \"cute\"\n",
        "\n",
        "print(dogs)"
      ],
      "metadata": {
        "colab": {
          "base_uri": "https://localhost:8080/"
        },
        "id": "0xNaXd6SIDWZ",
        "outputId": "fd3b3f25-d475-421a-8bff-ee689bfa6cea"
      },
      "execution_count": 24,
      "outputs": [
        {
          "output_type": "stream",
          "name": "stdout",
          "text": [
            "5\n"
          ]
        }
      ]
    },
    {
      "cell_type": "markdown",
      "source": [
        "##More Strings"
      ],
      "metadata": {
        "id": "dHdfxYV2IDaS"
      }
    },
    {
      "cell_type": "markdown",
      "source": [
        "### Indexing"
      ],
      "metadata": {
        "id": "CVtlYCqPIDdr"
      }
    },
    {
      "cell_type": "code",
      "source": [
        "greeting = \"Hello World!\""
      ],
      "metadata": {
        "id": "1mkw7fDLIDg9"
      },
      "execution_count": 25,
      "outputs": []
    },
    {
      "cell_type": "code",
      "source": [
        "greeting\n"
      ],
      "metadata": {
        "colab": {
          "base_uri": "https://localhost:8080/",
          "height": 35
        },
        "id": "fY3dMkvfIDj7",
        "outputId": "1c44473c-f266-439a-beb0-b6b70d94dc29"
      },
      "execution_count": 26,
      "outputs": [
        {
          "output_type": "execute_result",
          "data": {
            "text/plain": [
              "'Hello World!'"
            ],
            "application/vnd.google.colaboratory.intrinsic+json": {
              "type": "string"
            }
          },
          "metadata": {},
          "execution_count": 26
        }
      ]
    },
    {
      "cell_type": "code",
      "source": [
        "print(greeting[4])"
      ],
      "metadata": {
        "colab": {
          "base_uri": "https://localhost:8080/"
        },
        "id": "BuxbuH9cH19W",
        "outputId": "4b1d4159-66af-4eb9-e0f7-48c0325fb9d5"
      },
      "execution_count": 28,
      "outputs": [
        {
          "output_type": "stream",
          "name": "stdout",
          "text": [
            "o\n"
          ]
        }
      ]
    },
    {
      "cell_type": "markdown",
      "source": [
        "# The 3rd, the 5th, and/or the 19th"
      ],
      "metadata": {
        "id": "Bll-thNbN3N7"
      }
    },
    {
      "cell_type": "code",
      "source": [
        "Today  = \"Today is Monday!\""
      ],
      "metadata": {
        "id": "PSf1GAnNN-2e"
      },
      "execution_count": 29,
      "outputs": []
    },
    {
      "cell_type": "code",
      "source": [
        "Today"
      ],
      "metadata": {
        "colab": {
          "base_uri": "https://localhost:8080/",
          "height": 35
        },
        "id": "ZhQOHv0rN-6e",
        "outputId": "7c4bad7d-7b23-493b-e94f-362704365606"
      },
      "execution_count": 30,
      "outputs": [
        {
          "output_type": "execute_result",
          "data": {
            "text/plain": [
              "'Today is Monday!'"
            ],
            "application/vnd.google.colaboratory.intrinsic+json": {
              "type": "string"
            }
          },
          "metadata": {},
          "execution_count": 30
        }
      ]
    },
    {
      "cell_type": "code",
      "source": [
        "print(Today[6])\n",
        "print(Today[4])\n"
      ],
      "metadata": {
        "colab": {
          "base_uri": "https://localhost:8080/"
        },
        "id": "hjVNUh32N--8",
        "outputId": "379217a0-1e0a-42a1-8071-c5a9d2014899"
      },
      "execution_count": 46,
      "outputs": [
        {
          "output_type": "stream",
          "name": "stdout",
          "text": [
            "i\n",
            "y\n"
          ]
        }
      ]
    },
    {
      "cell_type": "code",
      "source": [
        "print(Today[3])\n"
      ],
      "metadata": {
        "colab": {
          "base_uri": "https://localhost:8080/"
        },
        "id": "5NCbSL3ON_HL",
        "outputId": "d6da6bb5-4e49-4bcc-cfe6-367dee2e7dd9"
      },
      "execution_count": 45,
      "outputs": [
        {
          "output_type": "stream",
          "name": "stdout",
          "text": [
            "a\n"
          ]
        }
      ]
    },
    {
      "cell_type": "markdown",
      "source": [
        "#String Formatting"
      ],
      "metadata": {
        "id": "XLRclXGfN_LV"
      }
    },
    {
      "cell_type": "code",
      "source": [
        "price = 59.99 "
      ],
      "metadata": {
        "id": "GkQSSqfrN_PE"
      },
      "execution_count": 47,
      "outputs": []
    },
    {
      "cell_type": "code",
      "source": [
        "message = \" The products costs \" + str(price) +  \" dollars\" "
      ],
      "metadata": {
        "id": "L7WQ6tQeN_Tl"
      },
      "execution_count": 48,
      "outputs": []
    },
    {
      "cell_type": "code",
      "source": [
        "message"
      ],
      "metadata": {
        "colab": {
          "base_uri": "https://localhost:8080/",
          "height": 35
        },
        "id": "E5U8lBoyN_XK",
        "outputId": "441d860e-ac4c-4aa6-889b-c86cd1cbe30b"
      },
      "execution_count": 49,
      "outputs": [
        {
          "output_type": "execute_result",
          "data": {
            "text/plain": [
              "' The products costs 59.99 dollars'"
            ],
            "application/vnd.google.colaboratory.intrinsic+json": {
              "type": "string"
            }
          },
          "metadata": {},
          "execution_count": 49
        }
      ]
    },
    {
      "cell_type": "code",
      "source": [
        "msg = \" The priducts cost {} dollars\". format(price)"
      ],
      "metadata": {
        "id": "gYqzDgIsN_bJ"
      },
      "execution_count": 55,
      "outputs": []
    },
    {
      "cell_type": "code",
      "source": [
        "msg"
      ],
      "metadata": {
        "colab": {
          "base_uri": "https://localhost:8080/",
          "height": 35
        },
        "id": "zQyOPFCyN_hh",
        "outputId": "0a411042-3d31-4cc6-a6a7-546878508170"
      },
      "execution_count": 56,
      "outputs": [
        {
          "output_type": "execute_result",
          "data": {
            "text/plain": [
              "' The priducts cost 59.99 dollars'"
            ],
            "application/vnd.google.colaboratory.intrinsic+json": {
              "type": "string"
            }
          },
          "metadata": {},
          "execution_count": 56
        }
      ]
    },
    {
      "cell_type": "code",
      "source": [
        "amount = 3\n",
        "total = amount * price"
      ],
      "metadata": {
        "id": "0mZcDwo5N_kx"
      },
      "execution_count": 57,
      "outputs": []
    },
    {
      "cell_type": "code",
      "source": [
        "msg2= 'For {} products at the price OF {}, the total will be: {}'"
      ],
      "metadata": {
        "id": "q9uzNTGIN_rI"
      },
      "execution_count": 58,
      "outputs": []
    },
    {
      "cell_type": "code",
      "source": [
        "print(msg2.format(amount,price,total))"
      ],
      "metadata": {
        "colab": {
          "base_uri": "https://localhost:8080/"
        },
        "id": "_IgVG99cRlOq",
        "outputId": "87384c3b-c39d-448b-d42d-967f2b505679"
      },
      "execution_count": 54,
      "outputs": [
        {
          "output_type": "stream",
          "name": "stdout",
          "text": [
            "For 3 products at the price OF 59.99, the total will be: 179.97\n"
          ]
        }
      ]
    },
    {
      "cell_type": "code",
      "source": [
        "msg3 ='For {2} products at the price OF {0}, the total will be: {1}'"
      ],
      "metadata": {
        "id": "9wF084_zTDtA"
      },
      "execution_count": 62,
      "outputs": []
    },
    {
      "cell_type": "code",
      "source": [
        "print(msg3.format(amount,price,total))"
      ],
      "metadata": {
        "colab": {
          "base_uri": "https://localhost:8080/"
        },
        "id": "0Uhlp7N_S3_p",
        "outputId": "64c0714a-3d34-436b-980d-262cf2034c05"
      },
      "execution_count": 63,
      "outputs": [
        {
          "output_type": "stream",
          "name": "stdout",
          "text": [
            "For 179.97 products at the price OF 3, the total will be: 19.99\n"
          ]
        }
      ]
    },
    {
      "cell_type": "markdown",
      "source": [
        "####The 'f-String Method!"
      ],
      "metadata": {
        "id": "fa1qWH2PRwDB"
      }
    },
    {
      "cell_type": "code",
      "source": [
        "price = 19.99\n",
        "items= 3"
      ],
      "metadata": {
        "id": "qFEKkJAHSd5v"
      },
      "execution_count": 59,
      "outputs": []
    },
    {
      "cell_type": "code",
      "source": [
        "msg = f' This individual product is {price}'"
      ],
      "metadata": {
        "id": "xyh0t3SWSeHS"
      },
      "execution_count": 60,
      "outputs": []
    },
    {
      "cell_type": "code",
      "source": [
        "msg"
      ],
      "metadata": {
        "colab": {
          "base_uri": "https://localhost:8080/",
          "height": 35
        },
        "id": "pE7hQI3hTU_1",
        "outputId": "37a76ac3-592d-4609-f66e-bb9990784540"
      },
      "execution_count": 61,
      "outputs": [
        {
          "output_type": "execute_result",
          "data": {
            "text/plain": [
              "' This individual product is 19.99'"
            ],
            "application/vnd.google.colaboratory.intrinsic+json": {
              "type": "string"
            }
          },
          "metadata": {},
          "execution_count": 61
        }
      ]
    },
    {
      "cell_type": "code",
      "source": [
        "mag2 = f'The total for your purchasw is {price * items}'"
      ],
      "metadata": {
        "id": "Wwa0XR7kTWFc"
      },
      "execution_count": 67,
      "outputs": []
    },
    {
      "cell_type": "code",
      "source": [
        "mag2"
      ],
      "metadata": {
        "colab": {
          "base_uri": "https://localhost:8080/",
          "height": 35
        },
        "id": "lVlhNPM-Tqay",
        "outputId": "8d57b32e-b374-4af0-bb33-dd048a816ecd"
      },
      "execution_count": 69,
      "outputs": [
        {
          "output_type": "execute_result",
          "data": {
            "text/plain": [
              "'The total for your purchasw is 59.97'"
            ],
            "application/vnd.google.colaboratory.intrinsic+json": {
              "type": "string"
            }
          },
          "metadata": {},
          "execution_count": 69
        }
      ]
    },
    {
      "cell_type": "code",
      "source": [],
      "metadata": {
        "id": "ceG2sXP3TsUJ"
      },
      "execution_count": null,
      "outputs": []
    }
  ]
}